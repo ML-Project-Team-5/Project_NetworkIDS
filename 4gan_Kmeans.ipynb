{
 "cells": [
  {
   "cell_type": "code",
   "execution_count": 594,
   "metadata": {},
   "outputs": [],
   "source": [
    "from sklearn.datasets import fetch_openml\n",
    "from sklearn.model_selection import train_test_split\n",
    "from sklearn.neighbors import KNeighborsClassifier\n",
    "from sklearn.metrics import accuracy_score\n",
    "import pandas as pd\n",
    "import numpy as np\n",
    "import matplotlib.pyplot as plt"
   ]
  },
  {
   "cell_type": "code",
   "execution_count": 595,
   "metadata": {},
   "outputs": [],
   "source": [
    "test_unknown_data_path = './data/2_rf_test_unknown_data.csv'\n",
    "test_unknown_data = pd.read_csv(test_unknown_data_path)\n",
    "\n",
    "test_unknown_label_path = './data/2_rf_test_unknown_label.csv'\n",
    "test_unknown_label = pd.read_csv(test_unknown_label_path)"
   ]
  },
  {
   "cell_type": "code",
   "execution_count": 596,
   "metadata": {},
   "outputs": [],
   "source": [
    "import pickle"
   ]
  },
  {
   "cell_type": "code",
   "execution_count": 597,
   "metadata": {},
   "outputs": [],
   "source": [
    "with open('./data/4_gan_data_v1.pkl', 'rb') as file:\n",
    "    gan_data_v1 = pickle.load(file)\n",
    "with open('./data/4_gan_label_v1.pkl', 'rb') as file:\n",
    "    gan_label_v1 = pickle.load(file)"
   ]
  },
  {
   "cell_type": "code",
   "execution_count": 598,
   "metadata": {},
   "outputs": [],
   "source": [
    "with open('./data/4_gan_data_v2.pkl', 'rb') as file:\n",
    "    gan_data_v2 = pickle.load(file)\n",
    "with open('./data/4_gan_label_v2.pkl', 'rb') as file:\n",
    "    gan_label_v2 = pickle.load(file)"
   ]
  },
  {
   "cell_type": "code",
   "execution_count": 599,
   "metadata": {},
   "outputs": [],
   "source": [
    "with open('./data/class_mapping.pkl', 'rb') as file:\n",
    "    class_mapping = pickle.load(file)"
   ]
  },
  {
   "cell_type": "code",
   "execution_count": 600,
   "metadata": {},
   "outputs": [
    {
     "data": {
      "text/plain": [
       "{'Backdoor_Malware': 0,\n",
       " 'BenignTraffic': 1,\n",
       " 'BrowserHijacking': 2,\n",
       " 'CommandInjection': 3,\n",
       " 'DDoS-ACK_Fragmentation': 4,\n",
       " 'DDoS-HTTP_Flood': 5,\n",
       " 'DDoS-ICMP_Flood': 6,\n",
       " 'DDoS-ICMP_Fragmentation': 7,\n",
       " 'DDoS-PSHACK_Flood': 8,\n",
       " 'DDoS-RSTFINFlood': 9,\n",
       " 'DDoS-SYN_Flood': 10,\n",
       " 'DDoS-SlowLoris': 11,\n",
       " 'DDoS-SynonymousIP_Flood': 12,\n",
       " 'DDoS-TCP_Flood': 13,\n",
       " 'DDoS-UDP_Flood': 14,\n",
       " 'DDoS-UDP_Fragmentation': 15,\n",
       " 'DNS_Spoofing': 16,\n",
       " 'DictionaryBruteForce': 17,\n",
       " 'DoS-HTTP_Flood': 18,\n",
       " 'DoS-SYN_Flood': 19,\n",
       " 'DoS-TCP_Flood': 20,\n",
       " 'DoS-UDP_Flood': 21,\n",
       " 'MITM-ArpSpoofing': 22,\n",
       " 'Mirai-greeth_flood': 23,\n",
       " 'Mirai-greip_flood': 24,\n",
       " 'Mirai-udpplain': 25,\n",
       " 'Recon-HostDiscovery': 26,\n",
       " 'Recon-OSScan': 27,\n",
       " 'Recon-PingSweep': 28,\n",
       " 'Recon-PortScan': 29,\n",
       " 'SqlInjection': 30,\n",
       " 'Uploading_Attack': 31,\n",
       " 'VulnerabilityScan': 32,\n",
       " 'XSS': 33}"
      ]
     },
     "execution_count": 600,
     "metadata": {},
     "output_type": "execute_result"
    }
   ],
   "source": [
    "class_mapping"
   ]
  },
  {
   "cell_type": "code",
   "execution_count": 601,
   "metadata": {},
   "outputs": [],
   "source": [
    "# flip the dictionary. key into value, and vice versa\n",
    "flipped_dict = dict((v, k) for k, v in class_mapping.items())"
   ]
  },
  {
   "cell_type": "code",
   "execution_count": 602,
   "metadata": {},
   "outputs": [],
   "source": [
    "gan_label_v1 = pd.DataFrame(gan_label_v1)\n",
    "gan_label_v2 = pd.DataFrame(gan_label_v2)"
   ]
  },
  {
   "cell_type": "code",
   "execution_count": 603,
   "metadata": {},
   "outputs": [
    {
     "data": {
      "text/html": [
       "<div>\n",
       "<style scoped>\n",
       "    .dataframe tbody tr th:only-of-type {\n",
       "        vertical-align: middle;\n",
       "    }\n",
       "\n",
       "    .dataframe tbody tr th {\n",
       "        vertical-align: top;\n",
       "    }\n",
       "\n",
       "    .dataframe thead th {\n",
       "        text-align: right;\n",
       "    }\n",
       "</style>\n",
       "<table border=\"1\" class=\"dataframe\">\n",
       "  <thead>\n",
       "    <tr style=\"text-align: right;\">\n",
       "      <th></th>\n",
       "      <th>label</th>\n",
       "    </tr>\n",
       "  </thead>\n",
       "  <tbody>\n",
       "    <tr>\n",
       "      <th>0</th>\n",
       "      <td>1</td>\n",
       "    </tr>\n",
       "    <tr>\n",
       "      <th>1</th>\n",
       "      <td>1</td>\n",
       "    </tr>\n",
       "    <tr>\n",
       "      <th>2</th>\n",
       "      <td>1</td>\n",
       "    </tr>\n",
       "    <tr>\n",
       "      <th>3</th>\n",
       "      <td>1</td>\n",
       "    </tr>\n",
       "    <tr>\n",
       "      <th>4</th>\n",
       "      <td>1</td>\n",
       "    </tr>\n",
       "    <tr>\n",
       "      <th>...</th>\n",
       "      <td>...</td>\n",
       "    </tr>\n",
       "    <tr>\n",
       "      <th>16991</th>\n",
       "      <td>2</td>\n",
       "    </tr>\n",
       "    <tr>\n",
       "      <th>16992</th>\n",
       "      <td>7</td>\n",
       "    </tr>\n",
       "    <tr>\n",
       "      <th>16993</th>\n",
       "      <td>7</td>\n",
       "    </tr>\n",
       "    <tr>\n",
       "      <th>16994</th>\n",
       "      <td>4</td>\n",
       "    </tr>\n",
       "    <tr>\n",
       "      <th>16995</th>\n",
       "      <td>4</td>\n",
       "    </tr>\n",
       "  </tbody>\n",
       "</table>\n",
       "<p>16996 rows × 1 columns</p>\n",
       "</div>"
      ],
      "text/plain": [
       "       label\n",
       "0          1\n",
       "1          1\n",
       "2          1\n",
       "3          1\n",
       "4          1\n",
       "...      ...\n",
       "16991      2\n",
       "16992      7\n",
       "16993      7\n",
       "16994      4\n",
       "16995      4\n",
       "\n",
       "[16996 rows x 1 columns]"
      ]
     },
     "execution_count": 603,
     "metadata": {},
     "output_type": "execute_result"
    }
   ],
   "source": [
    "gan_label_v1"
   ]
  },
  {
   "cell_type": "code",
   "execution_count": 604,
   "metadata": {},
   "outputs": [],
   "source": [
    "gan_label_v1['label'] = gan_label_v1['label'].replace(flipped_dict)\n",
    "gan_label_v2['label'] = gan_label_v2['label'].replace(flipped_dict)"
   ]
  },
  {
   "cell_type": "code",
   "execution_count": 605,
   "metadata": {},
   "outputs": [
    {
     "data": {
      "text/plain": [
       "label\n",
       "BenignTraffic              15149\n",
       "DDoS-PSHACK_Flood            746\n",
       "DDoS-ICMP_Fragmentation      580\n",
       "DDoS-ACK_Fragmentation       373\n",
       "DDoS-HTTP_Flood               55\n",
       "DDoS-RSTFINFlood              40\n",
       "BrowserHijacking              23\n",
       "CommandInjection              13\n",
       "Backdoor_Malware              12\n",
       "DDoS-SlowLoris                 4\n",
       "DDoS-ICMP_Flood                1\n",
       "Name: count, dtype: int64"
      ]
     },
     "execution_count": 605,
     "metadata": {},
     "output_type": "execute_result"
    }
   ],
   "source": [
    "gan_label_v1['label'].value_counts()"
   ]
  },
  {
   "cell_type": "code",
   "execution_count": 606,
   "metadata": {},
   "outputs": [],
   "source": [
    "attacks = ['DDoS', 'DoS', 'Mirai', 'Recon']\n",
    "\n",
    "def mergeAttacks(dataframe, attacks):\n",
    "    \"\"\" Merge attacks into big category\n",
    "\n",
    "    Args:\n",
    "        dataframe(Pandas dataframe): Contains specific attacks\n",
    "\n",
    "    Return:\n",
    "        (Pandas dataframe): merged dataframe\n",
    "    \"\"\"\n",
    "\n",
    "    dataframe.loc[dataframe['label'].str.contains('DDoS'), 'label'] = 'andrew-nah'\n",
    "\n",
    "    for attack in attacks:\n",
    "        if attack == 'DDoS':\n",
    "            continue\n",
    "        dataframe.loc[dataframe['label'].str.contains(attack), 'label'] = attack\n",
    "    \n",
    "    dataframe.loc[dataframe['label'].str.contains('andrew-nah'), 'label'] = 'DDoS'\n",
    "    \n",
    "    return dataframe"
   ]
  },
  {
   "cell_type": "markdown",
   "metadata": {},
   "source": [
    "# Merge attacks in syntesized data"
   ]
  },
  {
   "cell_type": "code",
   "execution_count": 607,
   "metadata": {},
   "outputs": [],
   "source": [
    "gan_label_v1 = mergeAttacks(gan_label_v1, attacks)\n",
    "gan_label_v2 = mergeAttacks(gan_label_v2, attacks)"
   ]
  },
  {
   "cell_type": "markdown",
   "metadata": {},
   "source": [
    "# Drop the major attacks; DDoS, DoS, Mirai"
   ]
  },
  {
   "cell_type": "code",
   "execution_count": 608,
   "metadata": {},
   "outputs": [],
   "source": [
    "def dropMajor(data, label):\n",
    "    \"\"\" Drop the designated attacks\n",
    "\n",
    "    Args:\n",
    "        data(Pandas dataframe): data without labels\n",
    "        label(Pandas dataframe): corresponding labels to data\n",
    "\n",
    "    Return:\n",
    "        (Pandas dataframe): dataframe without designated attacks\n",
    "\n",
    "    \"\"\"\n",
    "    df = pd.concat([data, label], axis=1)\n",
    "    df_filtered = df.drop(df[df['label'].isin(['BenignTraffic'])].index)\n",
    "    return df_filtered\n"
   ]
  },
  {
   "cell_type": "code",
   "execution_count": 609,
   "metadata": {},
   "outputs": [],
   "source": [
    "gan_dropped_v1 = dropMajor(gan_data_v1, gan_label_v1)\n",
    "gan_dropped_v2 = dropMajor(gan_data_v2, gan_label_v2)"
   ]
  },
  {
   "cell_type": "code",
   "execution_count": 610,
   "metadata": {},
   "outputs": [
    {
     "data": {
      "text/plain": [
       "label\n",
       "DDoS                1799\n",
       "BrowserHijacking      23\n",
       "CommandInjection      13\n",
       "Backdoor_Malware      12\n",
       "Name: count, dtype: int64"
      ]
     },
     "execution_count": 610,
     "metadata": {},
     "output_type": "execute_result"
    }
   ],
   "source": [
    "gan_dropped_v1['label'].value_counts()"
   ]
  },
  {
   "cell_type": "code",
   "execution_count": 611,
   "metadata": {},
   "outputs": [
    {
     "data": {
      "text/plain": [
       "label\n",
       "DDoS                630\n",
       "BrowserHijacking      7\n",
       "CommandInjection      5\n",
       "Backdoor_Malware      4\n",
       "Name: count, dtype: int64"
      ]
     },
     "execution_count": 611,
     "metadata": {},
     "output_type": "execute_result"
    }
   ],
   "source": [
    "gan_dropped_v2['label'].value_counts()"
   ]
  },
  {
   "cell_type": "code",
   "execution_count": 612,
   "metadata": {},
   "outputs": [],
   "source": [
    "gan_dropped_data_v1 = gan_dropped_v1.drop(columns=['label'])\n",
    "gan_dropped_label_v1 = pd.DataFrame(gan_dropped_v1['label'])\n",
    "gan_dropped_data_v2 = gan_dropped_v2.drop(columns=['label'])\n",
    "gan_dropped_label_v2 = pd.DataFrame(gan_dropped_v2['label'])"
   ]
  },
  {
   "cell_type": "markdown",
   "metadata": {},
   "source": [
    "# Merge original and synthesized data together"
   ]
  },
  {
   "cell_type": "code",
   "execution_count": 613,
   "metadata": {},
   "outputs": [],
   "source": [
    "gan_merged_data = pd.concat([gan_dropped_data_v1,gan_dropped_data_v2], axis=0)\n",
    "gan_merged_label = pd.concat([gan_dropped_label_v1, gan_dropped_label_v2], axis=0)\n"
   ]
  },
  {
   "cell_type": "code",
   "execution_count": 614,
   "metadata": {},
   "outputs": [
    {
     "name": "stdout",
     "output_type": "stream",
     "text": [
      "Shapes before merging:\n",
      "gan_merged_data shape: (2493, 46)\n",
      "gan_merged_label shape: (2493, 1)\n",
      "test_data shape: (5728, 46)\n",
      "test_label shape: (5728, 1)\n"
     ]
    }
   ],
   "source": [
    "print(\"Shapes before merging:\")\n",
    "print(\"gan_merged_data shape:\", gan_merged_data.shape)\n",
    "print(\"gan_merged_label shape:\", gan_merged_label.shape)\n",
    "print(\"test_data shape:\", test_unknown_data.shape)\n",
    "print(\"test_label shape:\", test_unknown_label.shape)"
   ]
  },
  {
   "cell_type": "code",
   "execution_count": 615,
   "metadata": {},
   "outputs": [],
   "source": [
    "train_data = pd.concat([gan_merged_data,test_unknown_data], axis=0)\n",
    "train_label = pd.concat([gan_merged_label, test_unknown_label], axis=0)"
   ]
  },
  {
   "cell_type": "code",
   "execution_count": 616,
   "metadata": {},
   "outputs": [
    {
     "data": {
      "text/plain": [
       "label           \n",
       "DDoS                2429\n",
       "BrowserHijacking      30\n",
       "CommandInjection      18\n",
       "Backdoor_Malware      16\n",
       "Name: count, dtype: int64"
      ]
     },
     "execution_count": 616,
     "metadata": {},
     "output_type": "execute_result"
    }
   ],
   "source": [
    "gan_merged_label.value_counts()"
   ]
  },
  {
   "cell_type": "code",
   "execution_count": 617,
   "metadata": {},
   "outputs": [
    {
     "data": {
      "text/plain": [
       "label               \n",
       "BenignTraffic           5067\n",
       "Recon                    271\n",
       "MITM-ArpSpoofing         199\n",
       "DNS_Spoofing             138\n",
       "DictionaryBruteForce      19\n",
       "SqlInjection              13\n",
       "BrowserHijacking           7\n",
       "CommandInjection           5\n",
       "Backdoor_Malware           4\n",
       "DoS                        2\n",
       "XSS                        2\n",
       "VulnerabilityScan          1\n",
       "Name: count, dtype: int64"
      ]
     },
     "execution_count": 617,
     "metadata": {},
     "output_type": "execute_result"
    }
   ],
   "source": [
    "test_unknown_label.value_counts()"
   ]
  },
  {
   "cell_type": "code",
   "execution_count": 618,
   "metadata": {},
   "outputs": [
    {
     "data": {
      "text/plain": [
       "label               \n",
       "BenignTraffic           5067\n",
       "DDoS                    2429\n",
       "Recon                    271\n",
       "MITM-ArpSpoofing         199\n",
       "DNS_Spoofing             138\n",
       "BrowserHijacking          37\n",
       "CommandInjection          23\n",
       "Backdoor_Malware          20\n",
       "DictionaryBruteForce      19\n",
       "SqlInjection              13\n",
       "DoS                        2\n",
       "XSS                        2\n",
       "VulnerabilityScan          1\n",
       "Name: count, dtype: int64"
      ]
     },
     "execution_count": 618,
     "metadata": {},
     "output_type": "execute_result"
    }
   ],
   "source": [
    "train_label.value_counts()"
   ]
  },
  {
   "cell_type": "code",
   "execution_count": 619,
   "metadata": {},
   "outputs": [
    {
     "name": "stdout",
     "output_type": "stream",
     "text": [
      "\n",
      "Shapes after merging:\n",
      "train_data shape: (8221, 46)\n",
      "train_label shape: (8221, 1)\n"
     ]
    }
   ],
   "source": [
    "# Check shapes after merging\n",
    "print(\"\\nShapes after merging:\")\n",
    "print(\"train_data shape:\", train_data.shape)\n",
    "print(\"train_label shape:\", train_label.shape)"
   ]
  },
  {
   "cell_type": "code",
   "execution_count": 620,
   "metadata": {},
   "outputs": [
    {
     "name": "stdout",
     "output_type": "stream",
     "text": [
      "Column names:\n",
      "Index(['flow_duration', 'Header_Length', 'Protocol Type', 'Duration', 'Rate',\n",
      "       'Srate', 'Drate', 'fin_flag_number', 'syn_flag_number',\n",
      "       'rst_flag_number', 'psh_flag_number', 'ack_flag_number',\n",
      "       'ece_flag_number', 'cwr_flag_number', 'ack_count', 'syn_count',\n",
      "       'fin_count', 'urg_count', 'rst_count', 'HTTP', 'HTTPS', 'DNS', 'Telnet',\n",
      "       'SMTP', 'SSH', 'IRC', 'TCP', 'UDP', 'DHCP', 'ARP', 'ICMP', 'IPv', 'LLC',\n",
      "       'Tot sum', 'Min', 'Max', 'AVG', 'Std', 'Tot size', 'IAT', 'Number',\n",
      "       'Magnitue', 'Radius', 'Covariance', 'Variance', 'Weight'],\n",
      "      dtype='object')\n",
      "\n",
      "Dataset shape:\n",
      "(8221, 46)\n"
     ]
    }
   ],
   "source": [
    "# Display column names\n",
    "print(\"Column names:\")\n",
    "print(train_data.columns)\n",
    "\n",
    "# Display dataset shape\n",
    "print(\"\\nDataset shape:\")\n",
    "print(train_data.shape)\n"
   ]
  },
  {
   "cell_type": "code",
   "execution_count": 621,
   "metadata": {},
   "outputs": [
    {
     "name": "stdout",
     "output_type": "stream",
     "text": [
      "\n",
      "Data Types:\n",
      "flow_duration      float64\n",
      "Header_Length      float64\n",
      "Protocol Type      float64\n",
      "Duration           float64\n",
      "Rate               float64\n",
      "Srate              float64\n",
      "Drate              float64\n",
      "fin_flag_number    float64\n",
      "syn_flag_number    float64\n",
      "rst_flag_number    float64\n",
      "psh_flag_number    float64\n",
      "ack_flag_number    float64\n",
      "ece_flag_number    float64\n",
      "cwr_flag_number    float64\n",
      "ack_count          float64\n",
      "syn_count          float64\n",
      "fin_count          float64\n",
      "urg_count          float64\n",
      "rst_count          float64\n",
      "HTTP               float64\n",
      "HTTPS              float64\n",
      "DNS                float64\n",
      "Telnet             float64\n",
      "SMTP               float64\n",
      "SSH                float64\n",
      "IRC                float64\n",
      "TCP                float64\n",
      "UDP                float64\n",
      "DHCP               float64\n",
      "ARP                float64\n",
      "ICMP               float64\n",
      "IPv                float64\n",
      "LLC                float64\n",
      "Tot sum            float64\n",
      "Min                float64\n",
      "Max                float64\n",
      "AVG                float64\n",
      "Std                float64\n",
      "Tot size           float64\n",
      "IAT                float64\n",
      "Number             float64\n",
      "Magnitue           float64\n",
      "Radius             float64\n",
      "Covariance         float64\n",
      "Variance           float64\n",
      "Weight             float64\n",
      "dtype: object\n"
     ]
    }
   ],
   "source": [
    "# Print data types\n",
    "print(\"\\nData Types:\")\n",
    "print(train_data.dtypes)"
   ]
  },
  {
   "cell_type": "code",
   "execution_count": 622,
   "metadata": {},
   "outputs": [
    {
     "name": "stderr",
     "output_type": "stream",
     "text": [
      "c:\\Users\\aravi\\anaconda3\\Lib\\site-packages\\sklearn\\preprocessing\\_label.py:114: DataConversionWarning: A column-vector y was passed when a 1d array was expected. Please change the shape of y to (n_samples, ), for example using ravel().\n",
      "  y = column_or_1d(y, warn=True)\n",
      "c:\\Users\\aravi\\anaconda3\\Lib\\site-packages\\sklearn\\cluster\\_kmeans.py:1412: FutureWarning: The default value of `n_init` will change from 10 to 'auto' in 1.4. Set the value of `n_init` explicitly to suppress the warning\n",
      "  super()._check_params_vs_input(X, default_n_init=10)\n"
     ]
    },
    {
     "data": {
      "image/png": "[encoded data removed]",
      "text/plain": [
       "<Figure size 1000x600 with 1 Axes>"
      ]
     },
     "metadata": {},
     "output_type": "display_data"
    },
    {
     "data": {
      "image/png": "[encoded data removed]",
      "text/plain": [
       "<Figure size 1000x600 with 1 Axes>"
      ]
     },
     "metadata": {},
     "output_type": "display_data"
    }
   ],
   "source": [
    "from sklearn.cluster import KMeans\n",
    "from sklearn.model_selection import train_test_split\n",
    "from sklearn.metrics import accuracy_score, normalized_mutual_info_score\n",
    "from sklearn.preprocessing import LabelEncoder\n",
    "from sklearn.decomposition import PCA\n",
    "import numpy as np\n",
    "\n",
    "X = train_data\n",
    "y = train_label\n",
    "\n",
    "# Assuming your data is in X and ground truth labels are in y\n",
    "# Split the data into training and testing sets\n",
    "X_train, X_test, y_train, y_test = train_test_split(X, y, test_size=0.2, random_state=42)\n",
    "\n",
    "# Encode the ground truth labels with handle_unknown='ignore'\n",
    "label_encoder = LabelEncoder()\n",
    "y_train_encoded = label_encoder.fit_transform(y_train)\n",
    "\n",
    "# Specify the number of clusters\n",
    "number_of_clusters = 2  # Adjust this based on your data\n",
    "\n",
    "# Apply k-means clustering on the training set\n",
    "kmeans = KMeans(n_clusters=number_of_clusters, random_state=42)\n",
    "train_predicted_labels = kmeans.fit_predict(X_train)\n",
    "\n",
    "# Apply the clustering model to the test set\n",
    "test_predicted_labels = kmeans.predict(X_test)\n",
    "\n",
    "# Visualize clusters using PCA for dimensionality reduction\n",
    "pca = PCA(n_components=2)\n",
    "X_train_reduced = pca.fit_transform(X_train)\n",
    "X_test_reduced = pca.transform(X_test)\n",
    "\n",
    "# Scatter plot for training set\n",
    "plt.figure(figsize=(10, 6))\n",
    "for cluster in range(number_of_clusters):\n",
    "    cluster_mask = (train_predicted_labels == cluster)\n",
    "    plt.scatter(X_train_reduced[cluster_mask, 0], X_train_reduced[cluster_mask, 1], label=f'Cluster {cluster}')\n",
    "\n",
    "plt.title('K-Means Clustering - Training Set')\n",
    "plt.xlabel('Principal Component 1')\n",
    "plt.ylabel('Principal Component 2')\n",
    "plt.legend()\n",
    "plt.show()\n",
    "\n",
    "# Scatter plot for test set\n",
    "plt.figure(figsize=(10, 6))\n",
    "for cluster in range(number_of_clusters):\n",
    "    cluster_mask = (test_predicted_labels == cluster)\n",
    "    plt.scatter(X_test_reduced[cluster_mask, 0], X_test_reduced[cluster_mask, 1], label=f'Cluster {cluster}')\n",
    "\n",
    "plt.title('K-Means Clustering - Test Set')\n",
    "plt.xlabel('Principal Component 1')\n",
    "plt.ylabel('Principal Component 2')\n",
    "plt.legend()\n",
    "plt.show()"
   ]
  },
  {
   "cell_type": "code",
   "execution_count": 623,
   "metadata": {},
   "outputs": [
    {
     "name": "stderr",
     "output_type": "stream",
     "text": [
      "c:\\Users\\aravi\\anaconda3\\Lib\\site-packages\\sklearn\\preprocessing\\_label.py:114: DataConversionWarning: A column-vector y was passed when a 1d array was expected. Please change the shape of y to (n_samples, ), for example using ravel().\n",
      "  y = column_or_1d(y, warn=True)\n",
      "c:\\Users\\aravi\\anaconda3\\Lib\\site-packages\\sklearn\\cluster\\_kmeans.py:1412: FutureWarning: The default value of `n_init` will change from 10 to 'auto' in 1.4. Set the value of `n_init` explicitly to suppress the warning\n",
      "  super()._check_params_vs_input(X, default_n_init=10)\n"
     ]
    },
    {
     "data": {
      "image/png": "[encoded data removed]",
      "text/plain": [
       "<Figure size 1000x600 with 1 Axes>"
      ]
     },
     "metadata": {},
     "output_type": "display_data"
    },
    {
     "data": {
      "image/png": "[encoded data removed]",
      "text/plain": [
       "<Figure size 1000x600 with 1 Axes>"
      ]
     },
     "metadata": {},
     "output_type": "display_data"
    }
   ],
   "source": [
    "from sklearn.cluster import KMeans\n",
    "from sklearn.model_selection import train_test_split\n",
    "from sklearn.preprocessing import LabelEncoder\n",
    "from sklearn.decomposition import PCA\n",
    "from sklearn.datasets import make_blobs\n",
    "import matplotlib.pyplot as plt\n",
    "import numpy as np\n",
    "\n",
    "X = train_data\n",
    "y = train_label\n",
    "\n",
    "# Generate synthetic data with 4 clusters\n",
    "#X, y = make_blobs(n_samples=8221, centers=4, random_state=42)\n",
    "\n",
    "# Split the data into training and testing sets\n",
    "X_train, X_test, y_train, y_test = train_test_split(X, y, test_size=0.4, random_state=42)\n",
    "\n",
    "# Encode the ground truth labels with handle_unknown='ignore'\n",
    "label_encoder = LabelEncoder()\n",
    "y_train_encoded = label_encoder.fit_transform(y_train)\n",
    "\n",
    "# Specify the number of clusters\n",
    "number_of_clusters = 4  # Adjust this based on your data\n",
    "\n",
    "# Apply k-means clustering on the training set\n",
    "kmeans = KMeans(n_clusters=number_of_clusters, random_state=42)\n",
    "train_predicted_labels = kmeans.fit_predict(X_train)\n",
    "\n",
    "# Apply the clustering model to the test set\n",
    "test_predicted_labels = kmeans.predict(X_test)\n",
    "\n",
    "# Visualize clusters using PCA for dimensionality reduction\n",
    "pca = PCA(n_components=2)\n",
    "X_train_reduced = pca.fit_transform(X_train)\n",
    "X_test_reduced = pca.transform(X_test)\n",
    "\n",
    "# Scatter plot for training set\n",
    "plt.figure(figsize=(10, 6))\n",
    "for cluster in range(number_of_clusters):\n",
    "    cluster_mask = (train_predicted_labels == cluster)\n",
    "    plt.scatter(X_train_reduced[cluster_mask, 0], X_train_reduced[cluster_mask, 1], label=f'Cluster {cluster}')\n",
    "\n",
    "plt.title('K-Means Clustering - Training Set')\n",
    "plt.xlabel('Principal Component 1')\n",
    "plt.ylabel('Principal Component 2')\n",
    "plt.legend()\n",
    "plt.show()\n",
    "\n",
    "# Scatter plot for test set\n",
    "plt.figure(figsize=(10, 6))\n",
    "for cluster in range(number_of_clusters):\n",
    "    cluster_mask = (test_predicted_labels == cluster)\n",
    "    plt.scatter(X_test_reduced[cluster_mask, 0], X_test_reduced[cluster_mask, 1], label=f'Cluster {cluster}')\n",
    "\n",
    "plt.title('K-Means Clustering - Test Set')\n",
    "plt.xlabel('Principal Component 1')\n",
    "plt.ylabel('Principal Component 2')\n",
    "plt.legend()\n",
    "plt.show()\n"
   ]
  },
  {
   "cell_type": "code",
   "execution_count": null,
   "metadata": {},
   "outputs": [],
   "source": []
  }
 ],
 "metadata": {
  "kernelspec": {
   "display_name": "base",
   "language": "python",
   "name": "python3"
  },
  "language_info": {
   "codemirror_mode": {
    "name": "ipython",
    "version": 3
   },
   "file_extension": ".py",
   "mimetype": "text/x-python",
   "name": "python",
   "nbconvert_exporter": "python",
   "pygments_lexer": "ipython3",
   "version": "3.11.5"
  }
 },
 "nbformat": 4,
 "nbformat_minor": 2
}
