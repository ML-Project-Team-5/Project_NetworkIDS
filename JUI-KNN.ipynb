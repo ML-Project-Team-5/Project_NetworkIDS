{
 "cells": [
  {
   "cell_type": "markdown",
   "metadata": {},
   "source": [
    "# import modules"
   ]
  },
  {
   "cell_type": "code",
   "execution_count": 1,
   "metadata": {},
   "outputs": [],
   "source": [
    "from sklearn.datasets import fetch_openml\n",
    "from sklearn.model_selection import train_test_split\n",
    "from sklearn.neighbors import KNeighborsClassifier\n",
    "from sklearn.metrics import accuracy_score\n",
    "import pandas as pd\n",
    "import numpy as np\n",
    "import matplotlib.pyplot as plt"
   ]
  },
  {
   "cell_type": "markdown",
   "metadata": {},
   "source": [
    "# load data"
   ]
  },
  {
   "cell_type": "code",
   "execution_count": 40,
   "metadata": {},
   "outputs": [
    {
     "name": "stdout",
     "output_type": "stream",
     "text": [
      "test_unknown_data shape: (5953, 46)\n",
      "test_unknown_data shape: Index(['flow_duration', 'Header_Length', 'Protocol Type', 'Duration', 'Rate',\n",
      "       'Srate', 'Drate', 'fin_flag_number', 'syn_flag_number',\n",
      "       'rst_flag_number', 'psh_flag_number', 'ack_flag_number',\n",
      "       'ece_flag_number', 'cwr_flag_number', 'ack_count', 'syn_count',\n",
      "       'fin_count', 'urg_count', 'rst_count', 'HTTP', 'HTTPS', 'DNS', 'Telnet',\n",
      "       'SMTP', 'SSH', 'IRC', 'TCP', 'UDP', 'DHCP', 'ARP', 'ICMP', 'IPv', 'LLC',\n",
      "       'Tot sum', 'Min', 'Max', 'AVG', 'Std', 'Tot size', 'IAT', 'Number',\n",
      "       'Magnitue', 'Radius', 'Covariance', 'Variance', 'Weight'],\n",
      "      dtype='object')\n"
     ]
    }
   ],
   "source": [
    "test_unknown_data_path = './data/test_unknown_data.csv'\n",
    "test_unknown_data = pd.read_csv(test_unknown_data_path)\n",
    "\n",
    "test_unknown_label_path = './data/test_unknown_label.csv'\n",
    "test_unknown_label = pd.read_csv(test_unknown_label_path)\n",
    "\n",
    "print(\"test_unknown_data shape:\", test_unknown_data.shape)\n",
    "print(\"test_unknown_data shape:\", test_unknown_data.columns)\n"
   ]
  },
  {
   "cell_type": "code",
   "execution_count": 46,
   "metadata": {},
   "outputs": [],
   "source": [
    "knn_clf_26 = KNeighborsClassifier(n_neighbors=26)\n",
    "knn_clf_20 = KNeighborsClassifier(n_neighbors=20)\n",
    "knn_clf_15 = KNeighborsClassifier(n_neighbors=15)\n",
    "knn_clf_10 = KNeighborsClassifier(n_neighbors=10)\n",
    "knn_clf_5 = KNeighborsClassifier(n_neighbors=5)"
   ]
  },
  {
   "cell_type": "code",
   "execution_count": 47,
   "metadata": {},
   "outputs": [],
   "source": [
    "knn_list = []\n",
    "knn_list.append(knn_clf_26)\n",
    "knn_list.append(knn_clf_20)\n",
    "knn_list.append(knn_clf_15)\n",
    "knn_list.append(knn_clf_10)\n",
    "knn_list.append(knn_clf_5)"
   ]
  },
  {
   "cell_type": "markdown",
   "metadata": {},
   "source": [
    "# KNN WORKING CODE BELOW\n",
    "<\n",
    "<style>\n",
    "td,th {\n",
    "  font-size: 15px\n",
    "}\n",
    "</style>"
   ]
  },
  {
   "cell_type": "code",
   "execution_count": 48,
   "metadata": {},
   "outputs": [
    {
     "name": "stdout",
     "output_type": "stream",
     "text": [
      "Accuracy for kNN with 26 neighbors: 0.8587266924239879\n",
      "Accuracy for kNN with 20 neighbors: 0.8592306400134386\n",
      "Accuracy for kNN with 15 neighbors: 0.865278011086847\n",
      "Accuracy for kNN with 10 neighbors: 0.8661179237359314\n",
      "Accuracy for kNN with 5 neighbors: 0.8740131026373257\n"
     ]
    }
   ],
   "source": [
    "from sklearn.preprocessing import LabelEncoder\n",
    "from sklearn.neighbors import KNeighborsClassifier\n",
    "from sklearn.metrics import accuracy_score\n",
    "\n",
    "# Assuming test_unknown_data is your test data\n",
    "# Drop the 'label' column from test_unknown_data\n",
    "#test_unknown_data = test_unknown_data.drop('label', axis=1)\n",
    "\n",
    "# Apply label encoding separately to each column in test_unknown_label\n",
    "label_encoder = LabelEncoder()\n",
    "test_unknown_label_encoded = test_unknown_label.apply(lambda col: label_encoder.fit_transform(col))\n",
    "\n",
    "# Train the kNN classifier on your training data\n",
    "# Use the appropriate labels from your dataset; I'm using the first column as an example\n",
    "knn_clf = KNeighborsClassifier(n_neighbors=5)\n",
    "# Assuming your_training_data and your_training_labels are your original training data and labels\n",
    "#knn_clf.fit(test_unknown_data, test_unknown_label.values.ravel())  \n",
    "\n",
    "# Make predictions on the test data\n",
    "#predictions = knn_clf.predict(test_unknown_data)\n",
    "\n",
    "# Optionally, you can evaluate the performance of the classifier\n",
    "# Assuming y_true is the actual labels for evaluation\n",
    "#accuracy = accuracy_score(test_unknown_label_encoded, predictions)\n",
    "#print(f'Accuracy for kNN with {knn_clf.n_neighbors} neighbors: {accuracy}')\n",
    "\n",
    "from sklearn.metrics import accuracy_score\n",
    "\n",
    "# Loop through each kNN classifier in knn_list\n",
    "for knn_clf in knn_list:\n",
    "    # Train the kNN classifier on your training data\n",
    "    knn_clf.fit(test_unknown_data, test_unknown_label.values.ravel()) \n",
    "\n",
    "    # Make predictions on the test data\n",
    "    predictions = knn_clf.predict(test_unknown_data)\n",
    "\n",
    "    # Evaluate the performance of the classifier\n",
    "    accuracy = accuracy_score(test_unknown_label.values.ravel(), predictions)\n",
    "    \n",
    "    # Print the accuracy for each kNN classifier\n",
    "    print(f'Accuracy for kNN with {knn_clf.n_neighbors} neighbors: {accuracy}')\n"
   ]
  },
  {
   "cell_type": "code",
   "execution_count": 12,
   "metadata": {},
   "outputs": [
    {
     "ename": "MemoryError",
     "evalue": "Unable to allocate 62.1 GiB for an array with shape (8328292884,) and data type float64",
     "output_type": "error",
     "traceback": [
      "\u001b[1;31m---------------------------------------------------------------------------\u001b[0m",
      "\u001b[1;31mMemoryError\u001b[0m                               Traceback (most recent call last)",
      "Cell \u001b[1;32mIn[12], line 61\u001b[0m\n\u001b[0;32m     58\u001b[0m \u001b[38;5;28;01mfor\u001b[39;00m i, (knn, k) \u001b[38;5;129;01min\u001b[39;00m \u001b[38;5;28menumerate\u001b[39m(\u001b[38;5;28mzip\u001b[39m(knn_list, [\u001b[38;5;241m26\u001b[39m, \u001b[38;5;241m20\u001b[39m, \u001b[38;5;241m15\u001b[39m, \u001b[38;5;241m10\u001b[39m, \u001b[38;5;241m5\u001b[39m])):\n\u001b[0;32m     59\u001b[0m     \u001b[38;5;66;03m# Fit KNN on the downsampled data\u001b[39;00m\n\u001b[0;32m     60\u001b[0m     knn\u001b[38;5;241m.\u001b[39mfit(reduced_data, downsampled_labels)\n\u001b[1;32m---> 61\u001b[0m     \u001b[43mplot_decision_boundary\u001b[49m\u001b[43m(\u001b[49m\u001b[43mknn\u001b[49m\u001b[43m,\u001b[49m\u001b[43m \u001b[49m\u001b[43mreduced_data\u001b[49m\u001b[43m,\u001b[49m\u001b[43m \u001b[49m\u001b[43mdownsampled_labels\u001b[49m\u001b[43m,\u001b[49m\u001b[43m \u001b[49m\u001b[38;5;124;43mf\u001b[39;49m\u001b[38;5;124;43m'\u001b[39;49m\u001b[38;5;124;43mKNN Decision Boundaries (k=\u001b[39;49m\u001b[38;5;132;43;01m{\u001b[39;49;00m\u001b[43mk\u001b[49m\u001b[38;5;132;43;01m}\u001b[39;49;00m\u001b[38;5;124;43m)\u001b[39;49m\u001b[38;5;124;43m'\u001b[39;49m\u001b[43m,\u001b[49m\u001b[43m \u001b[49m\u001b[43maxes\u001b[49m\u001b[43m[\u001b[49m\u001b[43mi\u001b[49m\u001b[43m]\u001b[49m\u001b[43m)\u001b[49m\n\u001b[0;32m     63\u001b[0m \u001b[38;5;66;03m# Adjust layout\u001b[39;00m\n\u001b[0;32m     64\u001b[0m plt\u001b[38;5;241m.\u001b[39mtight_layout()\n",
      "Cell \u001b[1;32mIn[12], line 28\u001b[0m, in \u001b[0;36mplot_decision_boundary\u001b[1;34m(knn, X, y, title, ax)\u001b[0m\n\u001b[0;32m     25\u001b[0m x_min, x_max \u001b[38;5;241m=\u001b[39m X[:, \u001b[38;5;241m0\u001b[39m]\u001b[38;5;241m.\u001b[39mmin() \u001b[38;5;241m-\u001b[39m \u001b[38;5;241m1\u001b[39m, X[:, \u001b[38;5;241m0\u001b[39m]\u001b[38;5;241m.\u001b[39mmax() \u001b[38;5;241m+\u001b[39m \u001b[38;5;241m1\u001b[39m\n\u001b[0;32m     26\u001b[0m y_min, y_max \u001b[38;5;241m=\u001b[39m X[:, \u001b[38;5;241m1\u001b[39m]\u001b[38;5;241m.\u001b[39mmin() \u001b[38;5;241m-\u001b[39m \u001b[38;5;241m1\u001b[39m, X[:, \u001b[38;5;241m1\u001b[39m]\u001b[38;5;241m.\u001b[39mmax() \u001b[38;5;241m+\u001b[39m \u001b[38;5;241m1\u001b[39m\n\u001b[1;32m---> 28\u001b[0m xx, yy \u001b[38;5;241m=\u001b[39m np\u001b[38;5;241m.\u001b[39mmeshgrid(\u001b[43mnp\u001b[49m\u001b[38;5;241;43m.\u001b[39;49m\u001b[43marange\u001b[49m\u001b[43m(\u001b[49m\u001b[43mx_min\u001b[49m\u001b[43m,\u001b[49m\u001b[43m \u001b[49m\u001b[43mx_max\u001b[49m\u001b[43m,\u001b[49m\u001b[43m \u001b[49m\u001b[43mh\u001b[49m\u001b[43m)\u001b[49m, np\u001b[38;5;241m.\u001b[39marange(y_min, y_max, h))\n\u001b[0;32m     30\u001b[0m \u001b[38;5;66;03m# Obtain predictions for each point in the meshgrid\u001b[39;00m\n\u001b[0;32m     31\u001b[0m Z \u001b[38;5;241m=\u001b[39m knn\u001b[38;5;241m.\u001b[39mpredict(np\u001b[38;5;241m.\u001b[39mc_[xx\u001b[38;5;241m.\u001b[39mravel(), yy\u001b[38;5;241m.\u001b[39mravel()])\n",
      "\u001b[1;31mMemoryError\u001b[0m: Unable to allocate 62.1 GiB for an array with shape (8328292884,) and data type float64"
     ]
    },
    {
     "data": {
      "image/png": "[encoded data removed]",
      "text/plain": [
       "<Figure size 1500x300 with 5 Axes>"
      ]
     },
     "metadata": {},
     "output_type": "display_data"
    }
   ],
   "source": [
    "# NOT WORKING\n",
    "\n",
    "import matplotlib.pyplot as plt\n",
    "import numpy as np\n",
    "import pandas as pd  # Only needed if you're still using Pandas for reading data\n",
    "from sklearn.neighbors import KNeighborsClassifier\n",
    "from sklearn.decomposition import PCA\n",
    "\n",
    "# Load the data\n",
    "test_unknown_data_path = './data/test_unknown_data.csv'\n",
    "test_unknown_label_path = './data/test_unknown_label.csv'\n",
    "\n",
    "# If you're still using Pandas for loading data:\n",
    "test_unknown_data = pd.read_csv(test_unknown_data_path).to_numpy()\n",
    "test_unknown_label = pd.read_csv(test_unknown_label_path)\n",
    "test_unknown_label= test_unknown_label.values.ravel()\n",
    "#test_unknown_label = pd.read_csv(test_unknown_label_path)['your_label_column_name'].to_numpy()\n",
    "\n",
    "# If your data is already in NumPy arrays, just use them directly:\n",
    "# test_unknown_data = np.load('your_data.npy')\n",
    "# test_unknown_label = np.load('your_label.npy')\n",
    "\n",
    "# Function to plot decision boundaries for KNN classifiers\n",
    "def plot_decision_boundary(knn, X, y, title, ax):\n",
    "    h = .02  # Step size in the mesh\n",
    "\n",
    "    x_min, x_max = X[:, 0].min() - 1, X[:, 0].max() + 1\n",
    "    y_min, y_max = X[:, 1].min() - 1, X[:, 1].max() + 1\n",
    "\n",
    "    xx, yy = np.meshgrid(np.arange(x_min, x_max, h), np.arange(y_min, y_max, h))\n",
    "\n",
    "    # Obtain predictions for each point in the meshgrid\n",
    "    Z = knn.predict(np.c_[xx.ravel(), yy.ravel()])\n",
    "    Z = Z.reshape(xx.shape)\n",
    "\n",
    "    # Plot the decision boundaries\n",
    "    ax.contourf(xx, yy, Z, cmap=plt.cm.coolwarm, alpha=0.3)\n",
    "\n",
    "    # Plot the training points\n",
    "    ax.scatter(X[:, 0], X[:, 1], c=y, cmap=plt.cm.coolwarm)\n",
    "\n",
    "    ax.set_xlabel('Principal Component 1')\n",
    "    ax.set_ylabel('Principal Component 2')\n",
    "    ax.set_title(title)\n",
    "\n",
    "# Additional downsampling\n",
    "downsampled_size = 100\n",
    "indices = np.random.choice(len(test_unknown_data), downsampled_size, replace=False)\n",
    "downsampled_data = test_unknown_data[indices]\n",
    "downsampled_labels = test_unknown_label[indices]\n",
    "\n",
    "# Apply PCA for dimensionality reduction\n",
    "pca = PCA(n_components=2)\n",
    "reduced_data = pca.fit_transform(downsampled_data)\n",
    "\n",
    "# Set up subplots\n",
    "fig, axes = plt.subplots(1, len(knn_list), figsize=(15, 3))  # Adjust figsize as needed\n",
    "\n",
    "# Assuming knn_list is a list of fitted KNN models\n",
    "for i, (knn, k) in enumerate(zip(knn_list, [26, 20, 15, 10, 5])):\n",
    "    # Fit KNN on the downsampled data\n",
    "    knn.fit(reduced_data, downsampled_labels)\n",
    "    plot_decision_boundary(knn, reduced_data, downsampled_labels, f'KNN Decision Boundaries (k={k})', axes[i])\n",
    "\n",
    "# Adjust layout\n",
    "plt.tight_layout()\n",
    "# Show the plots\n",
    "plt.show()\n"
   ]
  },
  {
   "cell_type": "code",
   "execution_count": 12,
   "metadata": {},
   "outputs": [
    {
     "ename": "MemoryError",
     "evalue": "Unable to allocate 62.1 GiB for an array with shape (8328292884,) and data type float64",
     "output_type": "error",
     "traceback": [
      "\u001b[1;31m---------------------------------------------------------------------------\u001b[0m",
      "\u001b[1;31mMemoryError\u001b[0m                               Traceback (most recent call last)",
      "Cell \u001b[1;32mIn[12], line 61\u001b[0m\n\u001b[0;32m     58\u001b[0m \u001b[38;5;28;01mfor\u001b[39;00m i, (knn, k) \u001b[38;5;129;01min\u001b[39;00m \u001b[38;5;28menumerate\u001b[39m(\u001b[38;5;28mzip\u001b[39m(knn_list, [\u001b[38;5;241m26\u001b[39m, \u001b[38;5;241m20\u001b[39m, \u001b[38;5;241m15\u001b[39m, \u001b[38;5;241m10\u001b[39m, \u001b[38;5;241m5\u001b[39m])):\n\u001b[0;32m     59\u001b[0m     \u001b[38;5;66;03m# Fit KNN on the downsampled data\u001b[39;00m\n\u001b[0;32m     60\u001b[0m     knn\u001b[38;5;241m.\u001b[39mfit(reduced_data, downsampled_labels)\n\u001b[1;32m---> 61\u001b[0m     \u001b[43mplot_decision_boundary\u001b[49m\u001b[43m(\u001b[49m\u001b[43mknn\u001b[49m\u001b[43m,\u001b[49m\u001b[43m \u001b[49m\u001b[43mreduced_data\u001b[49m\u001b[43m,\u001b[49m\u001b[43m \u001b[49m\u001b[43mdownsampled_labels\u001b[49m\u001b[43m,\u001b[49m\u001b[43m \u001b[49m\u001b[38;5;124;43mf\u001b[39;49m\u001b[38;5;124;43m'\u001b[39;49m\u001b[38;5;124;43mKNN Decision Boundaries (k=\u001b[39;49m\u001b[38;5;132;43;01m{\u001b[39;49;00m\u001b[43mk\u001b[49m\u001b[38;5;132;43;01m}\u001b[39;49;00m\u001b[38;5;124;43m)\u001b[39;49m\u001b[38;5;124;43m'\u001b[39;49m\u001b[43m,\u001b[49m\u001b[43m \u001b[49m\u001b[43maxes\u001b[49m\u001b[43m[\u001b[49m\u001b[43mi\u001b[49m\u001b[43m]\u001b[49m\u001b[43m)\u001b[49m\n\u001b[0;32m     63\u001b[0m \u001b[38;5;66;03m# Adjust layout\u001b[39;00m\n\u001b[0;32m     64\u001b[0m plt\u001b[38;5;241m.\u001b[39mtight_layout()\n",
      "Cell \u001b[1;32mIn[12], line 28\u001b[0m, in \u001b[0;36mplot_decision_boundary\u001b[1;34m(knn, X, y, title, ax)\u001b[0m\n\u001b[0;32m     25\u001b[0m x_min, x_max \u001b[38;5;241m=\u001b[39m X[:, \u001b[38;5;241m0\u001b[39m]\u001b[38;5;241m.\u001b[39mmin() \u001b[38;5;241m-\u001b[39m \u001b[38;5;241m1\u001b[39m, X[:, \u001b[38;5;241m0\u001b[39m]\u001b[38;5;241m.\u001b[39mmax() \u001b[38;5;241m+\u001b[39m \u001b[38;5;241m1\u001b[39m\n\u001b[0;32m     26\u001b[0m y_min, y_max \u001b[38;5;241m=\u001b[39m X[:, \u001b[38;5;241m1\u001b[39m]\u001b[38;5;241m.\u001b[39mmin() \u001b[38;5;241m-\u001b[39m \u001b[38;5;241m1\u001b[39m, X[:, \u001b[38;5;241m1\u001b[39m]\u001b[38;5;241m.\u001b[39mmax() \u001b[38;5;241m+\u001b[39m \u001b[38;5;241m1\u001b[39m\n\u001b[1;32m---> 28\u001b[0m xx, yy \u001b[38;5;241m=\u001b[39m np\u001b[38;5;241m.\u001b[39mmeshgrid(\u001b[43mnp\u001b[49m\u001b[38;5;241;43m.\u001b[39;49m\u001b[43marange\u001b[49m\u001b[43m(\u001b[49m\u001b[43mx_min\u001b[49m\u001b[43m,\u001b[49m\u001b[43m \u001b[49m\u001b[43mx_max\u001b[49m\u001b[43m,\u001b[49m\u001b[43m \u001b[49m\u001b[43mh\u001b[49m\u001b[43m)\u001b[49m, np\u001b[38;5;241m.\u001b[39marange(y_min, y_max, h))\n\u001b[0;32m     30\u001b[0m \u001b[38;5;66;03m# Obtain predictions for each point in the meshgrid\u001b[39;00m\n\u001b[0;32m     31\u001b[0m Z \u001b[38;5;241m=\u001b[39m knn\u001b[38;5;241m.\u001b[39mpredict(np\u001b[38;5;241m.\u001b[39mc_[xx\u001b[38;5;241m.\u001b[39mravel(), yy\u001b[38;5;241m.\u001b[39mravel()])\n",
      "\u001b[1;31mMemoryError\u001b[0m: Unable to allocate 62.1 GiB for an array with shape (8328292884,) and data type float64"
     ]
    },
    {
     "data": {
      "image/png": "[encoded data removed]",
      "text/plain": [
       "<Figure size 1500x300 with 5 Axes>"
      ]
     },
     "metadata": {},
     "output_type": "display_data"
    }
   ],
   "source": [
    "# NOT WORKING\n",
    "import matplotlib.pyplot as plt\n",
    "import numpy as np\n",
    "import pandas as pd  # Only needed if you're still using Pandas for reading data\n",
    "from sklearn.neighbors import KNeighborsClassifier\n",
    "from sklearn.decomposition import PCA\n",
    "\n",
    "# Load the data\n",
    "test_unknown_data_path = './data/test_unknown_data.csv'\n",
    "test_unknown_label_path = './data/test_unknown_label.csv'\n",
    "\n",
    "# If you're still using Pandas for loading data:\n",
    "test_unknown_data = pd.read_csv(test_unknown_data_path).to_numpy()\n",
    "test_unknown_label = pd.read_csv(test_unknown_label_path)\n",
    "test_unknown_label= test_unknown_label.values.ravel()\n",
    "#test_unknown_label = pd.read_csv(test_unknown_label_path)['your_label_column_name'].to_numpy()\n",
    "\n",
    "# If your data is already in NumPy arrays, just use them directly:\n",
    "# test_unknown_data = np.load('your_data.npy')\n",
    "# test_unknown_label = np.load('your_label.npy')\n",
    "\n",
    "# Function to plot decision boundaries for KNN classifiers\n",
    "def plot_decision_boundary(knn, X, y, title, ax):\n",
    "    h = .02  # Step size in the mesh\n",
    "\n",
    "    x_min, x_max = X[:, 0].min() - 1, X[:, 0].max() + 1\n",
    "    y_min, y_max = X[:, 1].min() - 1, X[:, 1].max() + 1\n",
    "\n",
    "    xx, yy = np.meshgrid(np.arange(x_min, x_max, h), np.arange(y_min, y_max, h))\n",
    "\n",
    "    # Obtain predictions for each point in the meshgrid\n",
    "    Z = knn.predict(np.c_[xx.ravel(), yy.ravel()])\n",
    "    Z = Z.reshape(xx.shape)\n",
    "\n",
    "    # Plot the decision boundaries\n",
    "    ax.contourf(xx, yy, Z, cmap=plt.cm.coolwarm, alpha=0.3)\n",
    "\n",
    "    # Plot the training points\n",
    "    ax.scatter(X[:, 0], X[:, 1], c=y, cmap=plt.cm.coolwarm)\n",
    "\n",
    "    ax.set_xlabel('Principal Component 1')\n",
    "    ax.set_ylabel('Principal Component 2')\n",
    "    ax.set_title(title)\n",
    "\n",
    "# Additional downsampling\n",
    "downsampled_size = 100\n",
    "indices = np.random.choice(len(test_unknown_data), downsampled_size, replace=False)\n",
    "downsampled_data = test_unknown_data[indices]\n",
    "downsampled_labels = test_unknown_label[indices]\n",
    "\n",
    "# Apply PCA for dimensionality reduction\n",
    "pca = PCA(n_components=2)\n",
    "reduced_data = pca.fit_transform(downsampled_data)\n",
    "\n",
    "# Set up subplots\n",
    "fig, axes = plt.subplots(1, len(knn_list), figsize=(15, 3))  # Adjust figsize as needed\n",
    "\n",
    "# Assuming knn_list is a list of fitted KNN models\n",
    "for i, (knn, k) in enumerate(zip(knn_list, [26, 20, 15, 10, 5])):\n",
    "    # Fit KNN on the downsampled data\n",
    "    knn.fit(reduced_data, downsampled_labels)\n",
    "    plot_decision_boundary(knn, reduced_data, downsampled_labels, f'KNN Decision Boundaries (k={k})', axes[i])\n",
    "\n",
    "# Adjust layout\n",
    "plt.tight_layout()\n",
    "# Show the plots\n",
    "plt.show()\n"
   ]
  },
  {
   "cell_type": "code",
   "execution_count": 6,
   "metadata": {},
   "outputs": [
    {
     "ename": "AttributeError",
     "evalue": "'numpy.ndarray' object has no attribute 'values'",
     "output_type": "error",
     "traceback": [
      "\u001b[1;31m---------------------------------------------------------------------------\u001b[0m",
      "\u001b[1;31mAttributeError\u001b[0m                            Traceback (most recent call last)",
      "Cell \u001b[1;32mIn[6], line 1\u001b[0m\n\u001b[1;32m----> 1\u001b[0m test_unknown_label\u001b[38;5;241m=\u001b[39m \u001b[43mtest_unknown_label\u001b[49m\u001b[38;5;241;43m.\u001b[39;49m\u001b[43mvalues\u001b[49m\u001b[38;5;241m.\u001b[39mravel()\n\u001b[0;32m      2\u001b[0m \u001b[38;5;28mprint\u001b[39m(\u001b[38;5;28mtype\u001b[39m(test_unknown_label))\n",
      "\u001b[1;31mAttributeError\u001b[0m: 'numpy.ndarray' object has no attribute 'values'"
     ]
    }
   ],
   "source": [
    "test_unknown_label= test_unknown_label.values.ravel()\n",
    "print(type(test_unknown_label))"
   ]
  },
  {
   "cell_type": "code",
   "execution_count": 25,
   "metadata": {},
   "outputs": [
    {
     "name": "stdout",
     "output_type": "stream",
     "text": [
      "(5990,)\n"
     ]
    }
   ],
   "source": [
    "print(test_unknown_label.shape)"
   ]
  },
  {
   "cell_type": "code",
   "execution_count": 7,
   "metadata": {},
   "outputs": [],
   "source": [
    "for knn in knn_list:\n",
    "    knn.fit(test_unknown_data, test_unknown_label)"
   ]
  },
  {
   "cell_type": "markdown",
   "metadata": {},
   "source": [
    "# plot"
   ]
  },
  {
   "cell_type": "code",
   "execution_count": 8,
   "metadata": {},
   "outputs": [
    {
     "ename": "MemoryError",
     "evalue": "Unable to allocate 62.1 GiB for an array with shape (8332938573,) and data type float64",
     "output_type": "error",
     "traceback": [
      "\u001b[1;31m---------------------------------------------------------------------------\u001b[0m",
      "\u001b[1;31mMemoryError\u001b[0m                               Traceback (most recent call last)",
      "Cell \u001b[1;32mIn[8], line 44\u001b[0m\n\u001b[0;32m     42\u001b[0m \u001b[38;5;66;03m# Assuming knn_list is a list of fitted KNN models\u001b[39;00m\n\u001b[0;32m     43\u001b[0m \u001b[38;5;28;01mfor\u001b[39;00m i, (knn, k) \u001b[38;5;129;01min\u001b[39;00m \u001b[38;5;28menumerate\u001b[39m(\u001b[38;5;28mzip\u001b[39m(knn_list, [\u001b[38;5;241m26\u001b[39m, \u001b[38;5;241m20\u001b[39m, \u001b[38;5;241m15\u001b[39m, \u001b[38;5;241m10\u001b[39m, \u001b[38;5;241m5\u001b[39m])):\n\u001b[1;32m---> 44\u001b[0m     \u001b[43mplot_decision_boundary\u001b[49m\u001b[43m(\u001b[49m\u001b[43mknn\u001b[49m\u001b[43m,\u001b[49m\u001b[43m \u001b[49m\u001b[43mreduced_data\u001b[49m\u001b[43m,\u001b[49m\u001b[43m \u001b[49m\u001b[43mdownsampled_labels\u001b[49m\u001b[43m,\u001b[49m\u001b[43m \u001b[49m\u001b[38;5;124;43mf\u001b[39;49m\u001b[38;5;124;43m'\u001b[39;49m\u001b[38;5;124;43mKNN Decision Boundaries (k=\u001b[39;49m\u001b[38;5;132;43;01m{\u001b[39;49;00m\u001b[43mk\u001b[49m\u001b[38;5;132;43;01m}\u001b[39;49;00m\u001b[38;5;124;43m)\u001b[39;49m\u001b[38;5;124;43m'\u001b[39;49m\u001b[43m,\u001b[49m\u001b[43m \u001b[49m\u001b[43maxes\u001b[49m\u001b[43m[\u001b[49m\u001b[43mi\u001b[49m\u001b[43m]\u001b[49m\u001b[43m)\u001b[49m\n\u001b[0;32m     46\u001b[0m \u001b[38;5;66;03m# Adjust layout\u001b[39;00m\n\u001b[0;32m     47\u001b[0m plt\u001b[38;5;241m.\u001b[39mtight_layout()\n",
      "Cell \u001b[1;32mIn[8], line 13\u001b[0m, in \u001b[0;36mplot_decision_boundary\u001b[1;34m(knn, X, y, title, ax)\u001b[0m\n\u001b[0;32m     10\u001b[0m x_min, x_max \u001b[38;5;241m=\u001b[39m X[:, \u001b[38;5;241m0\u001b[39m]\u001b[38;5;241m.\u001b[39mmin() \u001b[38;5;241m-\u001b[39m \u001b[38;5;241m1\u001b[39m, X[:, \u001b[38;5;241m0\u001b[39m]\u001b[38;5;241m.\u001b[39mmax() \u001b[38;5;241m+\u001b[39m \u001b[38;5;241m1\u001b[39m\n\u001b[0;32m     11\u001b[0m y_min, y_max \u001b[38;5;241m=\u001b[39m X[:, \u001b[38;5;241m1\u001b[39m]\u001b[38;5;241m.\u001b[39mmin() \u001b[38;5;241m-\u001b[39m \u001b[38;5;241m1\u001b[39m, X[:, \u001b[38;5;241m1\u001b[39m]\u001b[38;5;241m.\u001b[39mmax() \u001b[38;5;241m+\u001b[39m \u001b[38;5;241m1\u001b[39m\n\u001b[1;32m---> 13\u001b[0m xx, yy \u001b[38;5;241m=\u001b[39m np\u001b[38;5;241m.\u001b[39mmeshgrid(\u001b[43mnp\u001b[49m\u001b[38;5;241;43m.\u001b[39;49m\u001b[43marange\u001b[49m\u001b[43m(\u001b[49m\u001b[43mx_min\u001b[49m\u001b[43m,\u001b[49m\u001b[43m \u001b[49m\u001b[43mx_max\u001b[49m\u001b[43m,\u001b[49m\u001b[43m \u001b[49m\u001b[43mh\u001b[49m\u001b[43m)\u001b[49m, np\u001b[38;5;241m.\u001b[39marange(y_min, y_max, h))\n\u001b[0;32m     15\u001b[0m \u001b[38;5;66;03m# Obtain predictions for each point in the meshgrid\u001b[39;00m\n\u001b[0;32m     16\u001b[0m Z \u001b[38;5;241m=\u001b[39m knn\u001b[38;5;241m.\u001b[39mpredict(np\u001b[38;5;241m.\u001b[39mc_[xx\u001b[38;5;241m.\u001b[39mravel(), yy\u001b[38;5;241m.\u001b[39mravel()])\n",
      "\u001b[1;31mMemoryError\u001b[0m: Unable to allocate 62.1 GiB for an array with shape (8332938573,) and data type float64"
     ]
    },
    {
     "data": {
      "image/png": "[encoded data removed]",
      "text/plain": [
       "<Figure size 1500x300 with 5 Axes>"
      ]
     },
     "metadata": {},
     "output_type": "display_data"
    }
   ],
   "source": [
    "#YET TO DO ----> CHECK AARVINDA\n",
    "\n",
    "import matplotlib.pyplot as plt\n",
    "import numpy as np\n",
    "from sklearn.neighbors import KNeighborsClassifier\n",
    "from sklearn.decomposition import PCA\n",
    "\n",
    "# Function to plot decision boundaries for KNN classifiers\n",
    "def plot_decision_boundary(knn, X, y, title, ax):\n",
    "    h = .02  # Step size in the mesh\n",
    "\n",
    "    x_min, x_max = X[:, 0].min() - 1, X[:, 0].max() + 1\n",
    "    y_min, y_max = X[:, 1].min() - 1, X[:, 1].max() + 1\n",
    "\n",
    "    xx, yy = np.meshgrid(np.arange(x_min, x_max, h), np.arange(y_min, y_max, h))\n",
    "\n",
    "    # Obtain predictions for each point in the meshgrid\n",
    "    Z = knn.predict(np.c_[xx.ravel(), yy.ravel()])\n",
    "    Z = Z.reshape(xx.shape)\n",
    "\n",
    "    # Plot the decision boundaries\n",
    "    ax.contourf(xx, yy, Z, cmap=plt.cm.coolwarm, alpha=0.3)\n",
    "\n",
    "    # Plot the training points\n",
    "    ax.scatter(X[:, 0], X[:, 1], c=y, cmap=plt.cm.coolwarm)\n",
    "\n",
    "    ax.set_xlabel('Principal Component 1')\n",
    "    ax.set_ylabel('Principal Component 2')\n",
    "    ax.set_title(title)\n",
    "\n",
    "# Additional downsampling\n",
    "downsampled_size = 1000\n",
    "indices = np.random.choice(len(test_unknown_data), downsampled_size, replace=False)\n",
    "downsampled_data = test_unknown_data[indices]\n",
    "downsampled_labels = test_unknown_label[indices]\n",
    "\n",
    "# Apply PCA for dimensionality reduction\n",
    "pca = PCA(n_components=2)\n",
    "reduced_data = pca.fit_transform(downsampled_data)\n",
    "\n",
    "# Set up subplots\n",
    "fig, axes = plt.subplots(1, len(knn_list), figsize=(15, 3))  # Adjust figsize as needed\n",
    "\n",
    "# Assuming knn_list is a list of fitted KNN models\n",
    "for i, (knn, k) in enumerate(zip(knn_list, [26, 20, 15, 10, 5])):\n",
    "    plot_decision_boundary(knn, reduced_data, downsampled_labels, f'KNN Decision Boundaries (k={k})', axes[i])\n",
    "\n",
    "# Adjust layout\n",
    "plt.tight_layout()\n",
    "# Show the plots\n",
    "plt.show()\n"
   ]
  },
  {
   "cell_type": "code",
   "execution_count": null,
   "metadata": {},
   "outputs": [],
   "source": []
  }
 ],
 "metadata": {
  "kernelspec": {
   "display_name": "Python 3 (ipykernel)",
   "language": "python",
   "name": "python3"
  },
  "language_info": {
   "codemirror_mode": {
    "name": "ipython",
    "version": 3
   },
   "file_extension": ".py",
   "mimetype": "text/x-python",
   "name": "python",
   "nbconvert_exporter": "python",
   "pygments_lexer": "ipython3",
   "version": "3.11.5"
  },
  "vscode": {
   "interpreter": {
    "hash": "b0fa6594d8f4cbf19f97940f81e996739fb7646882a419484c72d19e05852a7e"
   }
  }
 },
 "nbformat": 4,
 "nbformat_minor": 4
}
