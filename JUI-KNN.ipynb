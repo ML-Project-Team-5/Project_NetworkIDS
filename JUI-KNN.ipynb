{
 "cells": [
  {
   "cell_type": "markdown",
   "metadata": {},
   "source": [
    "# import modules"
   ]
  },
  {
   "cell_type": "code",
   "execution_count": 31,
   "metadata": {},
   "outputs": [],
   "source": [
    "from sklearn.datasets import fetch_openml\n",
    "from sklearn.model_selection import train_test_split\n",
    "from sklearn.neighbors import KNeighborsClassifier\n",
    "from sklearn.metrics import accuracy_score\n",
    "import pandas as pd\n",
    "import numpy as np\n",
    "import matplotlib.pyplot as plt"
   ]
  },
  {
   "cell_type": "markdown",
   "metadata": {},
   "source": [
    "# load data"
   ]
  },
  {
   "cell_type": "code",
   "execution_count": 25,
   "metadata": {},
   "outputs": [],
   "source": [
    "test_unknown_data_path = './test_unknown_data.csv'\n",
    "test_unknown_data = pd.read_csv(test_unknown_data_path)\n",
    "\n",
    "test_unknown_label_path = './test_unknown_label.csv'\n",
    "test_unknown_label = pd.read_csv(test_unknown_label_path)"
   ]
  },
  {
   "cell_type": "markdown",
   "metadata": {},
   "source": [
    "# KNN"
   ]
  },
  {
   "cell_type": "code",
   "execution_count": 26,
   "metadata": {},
   "outputs": [],
   "source": [
    "knn_clf_26 = KNeighborsClassifier(n_neighbors=26)\n",
    "knn_clf_20 = KNeighborsClassifier(n_neighbors=20)\n",
    "knn_clf_15 = KNeighborsClassifier(n_neighbors=15)\n",
    "knn_clf_10 = KNeighborsClassifier(n_neighbors=10)\n",
    "knn_clf_5 = KNeighborsClassifier(n_neighbors=5)"
   ]
  },
  {
   "cell_type": "code",
   "execution_count": 27,
   "metadata": {},
   "outputs": [],
   "source": [
    "knn_list = []\n",
    "knn_list.append(knn_clf_26)\n",
    "knn_list.append(knn_clf_20)\n",
    "knn_list.append(knn_clf_15)\n",
    "knn_list.append(knn_clf_10)\n",
    "knn_list.append(knn_clf_5)"
   ]
  },
  {
   "cell_type": "code",
   "execution_count": 28,
   "metadata": {},
   "outputs": [
    {
     "name": "stdout",
     "output_type": "stream",
     "text": [
      "<class 'numpy.ndarray'>\n"
     ]
    }
   ],
   "source": [
    "test_unknown_label= test_unknown_label.values.ravel()\n",
    "print(type(test_unknown_label))"
   ]
  },
  {
   "cell_type": "code",
   "execution_count": 29,
   "metadata": {},
   "outputs": [
    {
     "name": "stdout",
     "output_type": "stream",
     "text": [
      "(5990,)\n"
     ]
    }
   ],
   "source": [
    "print(test_unknown_label.shape)"
   ]
  },
  {
   "cell_type": "code",
   "execution_count": 30,
   "metadata": {},
   "outputs": [],
   "source": [
    "for knn in knn_list:\n",
    "    knn.fit(test_unknown_data, test_unknown_label)"
   ]
  },
  {
   "cell_type": "markdown",
   "metadata": {},
   "source": [
    "# plot"
   ]
  },
  {
   "cell_type": "code",
   "execution_count": 34,
   "metadata": {},
   "outputs": [],
   "source": [
    "np_data = test_unknown_data.values\n",
    "np_data_y = test_unknown_label.values"
   ]
  },
  {
   "cell_type": "code",
   "execution_count": 35,
   "metadata": {},
   "outputs": [
    {
     "ename": "MemoryError",
     "evalue": "Unable to allocate 3.68 PiB for an array with shape (415859925, 1244827) and data type float64",
     "output_type": "error",
     "traceback": [
      "\u001b[0;31m---------------------------------------------------------------------------\u001b[0m",
      "\u001b[0;31mMemoryError\u001b[0m                               Traceback (most recent call last)",
      "Cell \u001b[0;32mIn[35], line 9\u001b[0m\n\u001b[1;32m      7\u001b[0m x_min, x_max \u001b[38;5;241m=\u001b[39m np_data[:, \u001b[38;5;241m0\u001b[39m]\u001b[38;5;241m.\u001b[39mmin() \u001b[38;5;241m-\u001b[39m \u001b[38;5;241m1\u001b[39m, np_data[:, \u001b[38;5;241m0\u001b[39m]\u001b[38;5;241m.\u001b[39mmax() \u001b[38;5;241m+\u001b[39m \u001b[38;5;241m1\u001b[39m\n\u001b[1;32m      8\u001b[0m y_min, y_max \u001b[38;5;241m=\u001b[39m np_data[:, \u001b[38;5;241m1\u001b[39m]\u001b[38;5;241m.\u001b[39mmin() \u001b[38;5;241m-\u001b[39m \u001b[38;5;241m1\u001b[39m, np_data[:, \u001b[38;5;241m1\u001b[39m]\u001b[38;5;241m.\u001b[39mmax() \u001b[38;5;241m+\u001b[39m \u001b[38;5;241m1\u001b[39m\n\u001b[0;32m----> 9\u001b[0m xx, yy \u001b[38;5;241m=\u001b[39m \u001b[43mnp\u001b[49m\u001b[38;5;241;43m.\u001b[39;49m\u001b[43mmeshgrid\u001b[49m\u001b[43m(\u001b[49m\u001b[43mnp\u001b[49m\u001b[38;5;241;43m.\u001b[39;49m\u001b[43marange\u001b[49m\u001b[43m(\u001b[49m\u001b[43mx_min\u001b[49m\u001b[43m,\u001b[49m\u001b[43m \u001b[49m\u001b[43mx_max\u001b[49m\u001b[43m,\u001b[49m\u001b[43m \u001b[49m\u001b[43mh\u001b[49m\u001b[43m)\u001b[49m\u001b[43m,\u001b[49m\u001b[43m \u001b[49m\u001b[43mnp\u001b[49m\u001b[38;5;241;43m.\u001b[39;49m\u001b[43marange\u001b[49m\u001b[43m(\u001b[49m\u001b[43my_min\u001b[49m\u001b[43m,\u001b[49m\u001b[43m \u001b[49m\u001b[43my_max\u001b[49m\u001b[43m,\u001b[49m\u001b[43m \u001b[49m\u001b[43mh\u001b[49m\u001b[43m)\u001b[49m\u001b[43m)\u001b[49m\n\u001b[1;32m     11\u001b[0m \u001b[38;5;66;03m# 각 점에 대한 예측 결과 가져오기\u001b[39;00m\n\u001b[1;32m     12\u001b[0m Z \u001b[38;5;241m=\u001b[39m knn_list[\u001b[38;5;241m0\u001b[39m]\u001b[38;5;241m.\u001b[39mpredict(np\u001b[38;5;241m.\u001b[39mc_[xx\u001b[38;5;241m.\u001b[39mravel(), yy\u001b[38;5;241m.\u001b[39mravel()])\n",
      "File \u001b[0;32m/opt/homebrew/lib/python3.11/site-packages/numpy/lib/function_base.py:5163\u001b[0m, in \u001b[0;36mmeshgrid\u001b[0;34m(copy, sparse, indexing, *xi)\u001b[0m\n\u001b[1;32m   5160\u001b[0m     output \u001b[39m=\u001b[39m np\u001b[39m.\u001b[39mbroadcast_arrays(\u001b[39m*\u001b[39moutput, subok\u001b[39m=\u001b[39m\u001b[39mTrue\u001b[39;00m)\n\u001b[1;32m   5162\u001b[0m \u001b[39mif\u001b[39;00m copy:\n\u001b[0;32m-> 5163\u001b[0m     output \u001b[39m=\u001b[39m [x\u001b[39m.\u001b[39;49mcopy() \u001b[39mfor\u001b[39;49;00m x \u001b[39min\u001b[39;49;00m output]\n\u001b[1;32m   5165\u001b[0m \u001b[39mreturn\u001b[39;00m output\n",
      "File \u001b[0;32m/opt/homebrew/lib/python3.11/site-packages/numpy/lib/function_base.py:5163\u001b[0m, in \u001b[0;36m<listcomp>\u001b[0;34m(.0)\u001b[0m\n\u001b[1;32m   5160\u001b[0m     output \u001b[39m=\u001b[39m np\u001b[39m.\u001b[39mbroadcast_arrays(\u001b[39m*\u001b[39moutput, subok\u001b[39m=\u001b[39m\u001b[39mTrue\u001b[39;00m)\n\u001b[1;32m   5162\u001b[0m \u001b[39mif\u001b[39;00m copy:\n\u001b[0;32m-> 5163\u001b[0m     output \u001b[39m=\u001b[39m [x\u001b[39m.\u001b[39;49mcopy() \u001b[39mfor\u001b[39;00m x \u001b[39min\u001b[39;00m output]\n\u001b[1;32m   5165\u001b[0m \u001b[39mreturn\u001b[39;00m output\n",
      "\u001b[0;31mMemoryError\u001b[0m: Unable to allocate 3.68 PiB for an array with shape (415859925, 1244827) and data type float64"
     ]
    }
   ],
   "source": [
    "import numpy as np\n",
    "import matplotlib.pyplot as plt\n",
    "from matplotlib.colors import ListedColormap\n",
    "\n",
    "# 플롯의 경계를 정의하기 위한 메쉬그리드 생성\n",
    "h = .02  # step size in the mesh\n",
    "x_min, x_max = np_data[:, 0].min() - 1, np_data[:, 0].max() + 1\n",
    "y_min, y_max = np_data[:, 1].min() - 1, np_data[:, 1].max() + 1\n",
    "xx, yy = np.meshgrid(np.arange(x_min, x_max, h), np.arange(y_min, y_max, h))\n",
    "\n",
    "# 각 점에 대한 예측 결과 가져오기\n",
    "Z = knn_list[0].predict(np.c_[xx.ravel(), yy.ravel()])\n",
    "Z = Z.reshape(xx.shape)\n",
    "\n",
    "# 색상맵 정의\n",
    "cmap_background = ListedColormap(['#FFAAAA', '#AAAAFF'])\n",
    "\n",
    "# 플롯의 배경을 결정 경계로 채우기\n",
    "plt.contourf(xx, yy, Z, cmap=cmap_background, alpha=0.3)\n",
    "\n",
    "# 각 데이터 포인트를 색으로 나타내기\n",
    "plt.scatter(np_data[:, 0], np_data[:, 1], c=np_data_y, cmap=cmap_background.colors, edgecolors='k', marker='o', s=80)\n",
    "\n",
    "# 플롯 설정\n",
    "plt.xlabel('Feature 1')\n",
    "plt.ylabel('Feature 2')\n",
    "plt.title('KNN Decision Boundary and Cluster Distribution')\n",
    "\n",
    "# 플롯 보이기\n",
    "plt.show()\n"
   ]
  },
  {
   "cell_type": "code",
   "execution_count": null,
   "metadata": {},
   "outputs": [],
   "source": []
  }
 ],
 "metadata": {
  "kernelspec": {
   "display_name": "Python 3.11.5 64-bit",
   "language": "python",
   "name": "python3"
  },
  "language_info": {
   "codemirror_mode": {
    "name": "ipython",
    "version": 3
   },
   "file_extension": ".py",
   "mimetype": "text/x-python",
   "name": "python",
   "nbconvert_exporter": "python",
   "pygments_lexer": "ipython3",
   "version": "3.11.5"
  },
  "orig_nbformat": 4,
  "vscode": {
   "interpreter": {
    "hash": "b0fa6594d8f4cbf19f97940f81e996739fb7646882a419484c72d19e05852a7e"
   }
  }
 },
 "nbformat": 4,
 "nbformat_minor": 2
}
