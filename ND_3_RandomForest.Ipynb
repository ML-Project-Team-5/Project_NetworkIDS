{
 "cells": [
  {
   "cell_type": "markdown",
   "metadata": {},
   "source": [
    "# import modules"
   ]
  },
  {
   "cell_type": "code",
   "execution_count": 1,
   "metadata": {},
   "outputs": [],
   "source": [
    "from sklearn.datasets import fetch_openml\n",
    "from sklearn.model_selection import train_test_split\n",
    "from sklearn.ensemble  import RandomForestClassifier\n",
    "from sklearn.metrics import accuracy_score\n",
    "import pandas as pd\n",
    "import numpy as np"
   ]
  },
  {
   "cell_type": "markdown",
   "metadata": {},
   "source": [
    "# import train and test dataset"
   ]
  },
  {
   "cell_type": "code",
   "execution_count": 2,
   "metadata": {},
   "outputs": [],
   "source": [
    "train_csv_file_path = './data/part-00000-363d1ba3-8ab5-4f96-bc25-4d5862db7cb9-c000.csv'\n",
    "train_raw_data = pd.read_csv(train_csv_file_path)\n",
    "\n",
    "test_csv_file_path = './data/part-00001-363d1ba3-8ab5-4f96-bc25-4d5862db7cb9-c000.csv'\n",
    "test_raw_data = pd.read_csv(test_csv_file_path)"
   ]
  },
  {
   "cell_type": "code",
   "execution_count": 3,
   "metadata": {},
   "outputs": [],
   "source": [
    "train_data = train_raw_data.iloc[0:, :-1]\n",
    "train_label = train_raw_data.iloc[0:, -1]\n",
    "\n",
    "test_data = test_raw_data.iloc[0:, :-1]\n",
    "test_label = test_raw_data.iloc[0:, -1]"
   ]
  },
  {
   "cell_type": "code",
   "execution_count": 4,
   "metadata": {},
   "outputs": [],
   "source": [
    "train_label = pd.DataFrame(train_label)\n",
    "test_label = pd.DataFrame(test_label)"
   ]
  },
  {
   "cell_type": "code",
   "execution_count": 5,
   "metadata": {},
   "outputs": [],
   "source": [
    "unique = train_label[\"label\"].unique()\n",
    "attacks = ['DDoS', 'DoS', 'Mirai', 'Recon']"
   ]
  },
  {
   "cell_type": "code",
   "execution_count": 6,
   "metadata": {},
   "outputs": [],
   "source": [
    "def attackLists(dataframe):\n",
    "    \"\"\" find unique attacks\n",
    "\n",
    "    Args: \n",
    "        dataframe(Pandas Dataframe): Contains specific attacks\n",
    "    \n",
    "    Return:\n",
    "        attack_specifics: list of lists\n",
    "    \"\"\"\n",
    "\n",
    "    unique = dataframe[\"label\"].unique()\n",
    "\n",
    "    attack_specifics = []\n",
    "\n",
    "    DDoS = [element for element in unique if 'DDoS' in element]\n",
    "    DoS = [element for element in unique if 'DoS' in element and 'DDoS' not in element]\n",
    "    Mirai = [element for element in unique if 'Mirai' in element]\n",
    "    Recon = [element for element in unique if 'Recon' in element]\n",
    "\n",
    "    attack_specifics.append(DDoS)\n",
    "    attack_specifics.append(DoS)\n",
    "    attack_specifics.append(Mirai)\n",
    "    attack_specifics.append(Recon)\n",
    "\n",
    "    return unique, attack_specifics"
   ]
  },
  {
   "cell_type": "code",
   "execution_count": 7,
   "metadata": {},
   "outputs": [
    {
     "name": "stdout",
     "output_type": "stream",
     "text": [
      "types of attacks in training lable: 34\n",
      "types of DDoS: 12\n",
      "types of DoS: 4\n",
      "types of Mirai: 3\n",
      "types of Recon: 4\n"
     ]
    }
   ],
   "source": [
    "train_unique, train_attack_specifics = attackLists(train_label)\n",
    "\n",
    "print(f'types of attacks in training lable: {len(train_unique)}')\n",
    "\n",
    "for index, attack in enumerate(train_attack_specifics):\n",
    "    print(f'types of {attacks[index]}: {len(attack)}')"
   ]
  },
  {
   "cell_type": "code",
   "execution_count": 8,
   "metadata": {},
   "outputs": [],
   "source": [
    "def mergeAttacks(dataframe, attacks):\n",
    "    \"\"\" Merge attacks into big category\n",
    "\n",
    "    Args:\n",
    "        dataframe(Pandas dataframe): Contains specific attacks\n",
    "\n",
    "    Return:\n",
    "        (Pandas dataframe): merged dataframe\n",
    "    \"\"\"\n",
    "\n",
    "    dataframe.loc[dataframe['label'].str.contains('DDoS'), 'label'] = 'andrew-nah'\n",
    "\n",
    "    for attack in attacks:\n",
    "        if attack == 'DDoS':\n",
    "            continue\n",
    "        dataframe.loc[dataframe['label'].str.contains(attack), 'label'] = attack\n",
    "    \n",
    "    dataframe.loc[dataframe['label'].str.contains('andrew-nah'), 'label'] = 'DDoS'\n",
    "    \n",
    "    return dataframe"
   ]
  },
  {
   "cell_type": "code",
   "execution_count": 9,
   "metadata": {},
   "outputs": [
    {
     "name": "stdout",
     "output_type": "stream",
     "text": [
      "types of attacks in train_label after merged: 15\n"
     ]
    }
   ],
   "source": [
    "train_label =  mergeAttacks(train_label, attacks)\n",
    "unique = train_label[\"label\"].unique()\n",
    "print(f'types of attacks in train_label after merged: {len(unique)}')"
   ]
  },
  {
   "cell_type": "code",
   "execution_count": 10,
   "metadata": {},
   "outputs": [
    {
     "name": "stdout",
     "output_type": "stream",
     "text": [
      "types of attacks after merged: 15\n"
     ]
    }
   ],
   "source": [
    "test_label = mergeAttacks(test_label, attacks)\n",
    "unique_test = test_label[\"label\"].unique()\n",
    "print(f'types of attacks after merged: {len(unique_test)}')"
   ]
  },
  {
   "cell_type": "markdown",
   "metadata": {},
   "source": [
    "# check the distribution of raw training data"
   ]
  },
  {
   "cell_type": "code",
   "execution_count": 11,
   "metadata": {},
   "outputs": [],
   "source": [
    "train_merged_data = mergeAttacks(train_raw_data, attacks)"
   ]
  },
  {
   "cell_type": "code",
   "execution_count": 12,
   "metadata": {},
   "outputs": [
    {
     "name": "stdout",
     "output_type": "stream",
     "text": [
      "total traffics: 238687\n"
     ]
    }
   ],
   "source": [
    "label_counts = train_merged_data['label'].value_counts()\n",
    "num_columns = train_merged_data.shape[0]\n",
    "print(f'total traffics: {num_columns}')"
   ]
  },
  {
   "cell_type": "code",
   "execution_count": 13,
   "metadata": {},
   "outputs": [
    {
     "data": {
      "text/plain": [
       "label\n",
       "DDoS                    173777\n",
       "DoS                      41276\n",
       "Mirai                    13435\n",
       "BenignTraffic             5600\n",
       "Recon                     1650\n",
       "MITM-ArpSpoofing          1614\n",
       "DNS_Spoofing               925\n",
       "VulnerabilityScan          210\n",
       "DictionaryBruteForce        63\n",
       "SqlInjection                31\n",
       "BrowserHijacking            30\n",
       "CommandInjection            28\n",
       "Backdoor_Malware            22\n",
       "XSS                         18\n",
       "Uploading_Attack             8\n",
       "Name: count, dtype: int64"
      ]
     },
     "execution_count": 13,
     "metadata": {},
     "output_type": "execute_result"
    }
   ],
   "source": [
    "label_counts"
   ]
  },
  {
   "cell_type": "code",
   "execution_count": 14,
   "metadata": {},
   "outputs": [
    {
     "name": "stdout",
     "output_type": "stream",
     "text": [
      "11\n"
     ]
    }
   ],
   "source": [
    "# Benign traffic is only less than 3%.\n",
    "# For now, any traffics below this ratio is considered \"minor\"\n",
    "# which are, \n",
    "minor_attacks = ['Recon', 'MITM-ArpSpoofing', 'DNS_Spoofing', 'VulnerabilityScan', 'DictionaryBruteForce', 'SqlInjection', 'BrowserHijacking', 'CommandInjection', 'Backdoor_Malware', 'XSS', 'Uploading_Attack']\n",
    "print(len(minor_attacks))\n",
    "\n",
    "# Basically everything but DDoS, DoS, and Mirai"
   ]
  },
  {
   "cell_type": "markdown",
   "metadata": {},
   "source": [
    "# load the synthesized data"
   ]
  },
  {
   "cell_type": "code",
   "execution_count": 15,
   "metadata": {},
   "outputs": [],
   "source": [
    "import pickle"
   ]
  },
  {
   "cell_type": "code",
   "execution_count": 16,
   "metadata": {},
   "outputs": [],
   "source": [
    "with open('./data/1_gan_train_v1.pkl', 'rb') as file:\n",
    "    gan_data_v1 = pickle.load(file)\n",
    "with open('./data/1_gan_label_v1.pkl', 'rb') as file:\n",
    "    gan_label_v1 = pickle.load(file)"
   ]
  },
  {
   "cell_type": "code",
   "execution_count": 17,
   "metadata": {},
   "outputs": [],
   "source": [
    "with open('./data/1_gan_train_v2.pkl', 'rb') as file:\n",
    "    gan_data_v2 = pickle.load(file)\n",
    "with open('./data/1_gan_label_v2.pkl', 'rb') as file:\n",
    "    gan_label_v2 = pickle.load(file)"
   ]
  },
  {
   "cell_type": "code",
   "execution_count": 18,
   "metadata": {},
   "outputs": [],
   "source": [
    "with open('./data/class_mapping.pkl', 'rb') as file:\n",
    "    class_mapping = pickle.load(file)"
   ]
  },
  {
   "cell_type": "code",
   "execution_count": 19,
   "metadata": {},
   "outputs": [
    {
     "data": {
      "text/plain": [
       "{'Backdoor_Malware': 0,\n",
       " 'BenignTraffic': 1,\n",
       " 'BrowserHijacking': 2,\n",
       " 'CommandInjection': 3,\n",
       " 'DDoS-ACK_Fragmentation': 4,\n",
       " 'DDoS-HTTP_Flood': 5,\n",
       " 'DDoS-ICMP_Flood': 6,\n",
       " 'DDoS-ICMP_Fragmentation': 7,\n",
       " 'DDoS-PSHACK_Flood': 8,\n",
       " 'DDoS-RSTFINFlood': 9,\n",
       " 'DDoS-SYN_Flood': 10,\n",
       " 'DDoS-SlowLoris': 11,\n",
       " 'DDoS-SynonymousIP_Flood': 12,\n",
       " 'DDoS-TCP_Flood': 13,\n",
       " 'DDoS-UDP_Flood': 14,\n",
       " 'DDoS-UDP_Fragmentation': 15,\n",
       " 'DNS_Spoofing': 16,\n",
       " 'DictionaryBruteForce': 17,\n",
       " 'DoS-HTTP_Flood': 18,\n",
       " 'DoS-SYN_Flood': 19,\n",
       " 'DoS-TCP_Flood': 20,\n",
       " 'DoS-UDP_Flood': 21,\n",
       " 'MITM-ArpSpoofing': 22,\n",
       " 'Mirai-greeth_flood': 23,\n",
       " 'Mirai-greip_flood': 24,\n",
       " 'Mirai-udpplain': 25,\n",
       " 'Recon-HostDiscovery': 26,\n",
       " 'Recon-OSScan': 27,\n",
       " 'Recon-PingSweep': 28,\n",
       " 'Recon-PortScan': 29,\n",
       " 'SqlInjection': 30,\n",
       " 'Uploading_Attack': 31,\n",
       " 'VulnerabilityScan': 32,\n",
       " 'XSS': 33}"
      ]
     },
     "execution_count": 19,
     "metadata": {},
     "output_type": "execute_result"
    }
   ],
   "source": [
    "class_mapping"
   ]
  },
  {
   "cell_type": "code",
   "execution_count": 20,
   "metadata": {},
   "outputs": [],
   "source": [
    "# flip the dictionary. key into value, and vice versa\n",
    "flipped_dict = dict((v, k) for k, v in class_mapping.items())"
   ]
  },
  {
   "cell_type": "code",
   "execution_count": 21,
   "metadata": {},
   "outputs": [
    {
     "name": "stdout",
     "output_type": "stream",
     "text": [
      "<class 'pandas.core.frame.DataFrame'>\n",
      "<class 'pandas.core.frame.DataFrame'>\n",
      "<class 'pandas.core.frame.DataFrame'>\n",
      "<class 'pandas.core.series.Series'>\n"
     ]
    }
   ],
   "source": [
    "print(type(train_data))\n",
    "print(type(train_label))\n",
    "print(type(gan_data_v1))\n",
    "print(type(gan_label_v1))"
   ]
  },
  {
   "cell_type": "code",
   "execution_count": 22,
   "metadata": {},
   "outputs": [],
   "source": [
    "gan_label_v1 = pd.DataFrame(gan_label_v1)\n",
    "gan_label_v2 = pd.DataFrame(gan_label_v2)"
   ]
  },
  {
   "cell_type": "code",
   "execution_count": 23,
   "metadata": {},
   "outputs": [
    {
     "data": {
      "text/html": [
       "<div>\n",
       "<style scoped>\n",
       "    .dataframe tbody tr th:only-of-type {\n",
       "        vertical-align: middle;\n",
       "    }\n",
       "\n",
       "    .dataframe tbody tr th {\n",
       "        vertical-align: top;\n",
       "    }\n",
       "\n",
       "    .dataframe thead th {\n",
       "        text-align: right;\n",
       "    }\n",
       "</style>\n",
       "<table border=\"1\" class=\"dataframe\">\n",
       "  <thead>\n",
       "    <tr style=\"text-align: right;\">\n",
       "      <th></th>\n",
       "      <th>label</th>\n",
       "    </tr>\n",
       "  </thead>\n",
       "  <tbody>\n",
       "    <tr>\n",
       "      <th>0</th>\n",
       "      <td>12</td>\n",
       "    </tr>\n",
       "    <tr>\n",
       "      <th>1</th>\n",
       "      <td>20</td>\n",
       "    </tr>\n",
       "    <tr>\n",
       "      <th>2</th>\n",
       "      <td>6</td>\n",
       "    </tr>\n",
       "    <tr>\n",
       "      <th>3</th>\n",
       "      <td>6</td>\n",
       "    </tr>\n",
       "    <tr>\n",
       "      <th>4</th>\n",
       "      <td>6</td>\n",
       "    </tr>\n",
       "    <tr>\n",
       "      <th>...</th>\n",
       "      <td>...</td>\n",
       "    </tr>\n",
       "    <tr>\n",
       "      <th>707417</th>\n",
       "      <td>1</td>\n",
       "    </tr>\n",
       "    <tr>\n",
       "      <th>707418</th>\n",
       "      <td>1</td>\n",
       "    </tr>\n",
       "    <tr>\n",
       "      <th>707419</th>\n",
       "      <td>1</td>\n",
       "    </tr>\n",
       "    <tr>\n",
       "      <th>707420</th>\n",
       "      <td>1</td>\n",
       "    </tr>\n",
       "    <tr>\n",
       "      <th>707421</th>\n",
       "      <td>16</td>\n",
       "    </tr>\n",
       "  </tbody>\n",
       "</table>\n",
       "<p>707422 rows × 1 columns</p>\n",
       "</div>"
      ],
      "text/plain": [
       "        label\n",
       "0          12\n",
       "1          20\n",
       "2           6\n",
       "3           6\n",
       "4           6\n",
       "...       ...\n",
       "707417      1\n",
       "707418      1\n",
       "707419      1\n",
       "707420      1\n",
       "707421     16\n",
       "\n",
       "[707422 rows x 1 columns]"
      ]
     },
     "execution_count": 23,
     "metadata": {},
     "output_type": "execute_result"
    }
   ],
   "source": [
    "gan_label_v1"
   ]
  },
  {
   "cell_type": "code",
   "execution_count": 24,
   "metadata": {},
   "outputs": [],
   "source": [
    "gan_label_v1['label'] = gan_label_v1['label'].replace(flipped_dict)\n",
    "gan_label_v2['label'] = gan_label_v2['label'].replace(flipped_dict)"
   ]
  },
  {
   "cell_type": "code",
   "execution_count": 25,
   "metadata": {},
   "outputs": [
    {
     "data": {
      "text/plain": [
       "label\n",
       "DDoS-ICMP_Flood            109020\n",
       "DDoS-UDP_Flood              83069\n",
       "DDoS-TCP_Flood              69361\n",
       "DDoS-PSHACK_Flood           63438\n",
       "DDoS-SYN_Flood              62197\n",
       "DDoS-RSTFINFlood            61387\n",
       "DDoS-SynonymousIP_Flood     54308\n",
       "DoS-UDP_Flood               50928\n",
       "DoS-TCP_Flood               40991\n",
       "DoS-SYN_Flood               30809\n",
       "BenignTraffic               14901\n",
       "Mirai-greeth_flood          14874\n",
       "Mirai-udpplain              13800\n",
       "Mirai-greip_flood           11246\n",
       "DDoS-ICMP_Fragmentation      7005\n",
       "DDoS-ACK_Fragmentation       4497\n",
       "DDoS-UDP_Fragmentation       4479\n",
       "MITM-ArpSpoofing             3147\n",
       "DNS_Spoofing                 1682\n",
       "Recon-HostDiscovery          1478\n",
       "Recon-OSScan                 1166\n",
       "DoS-HTTP_Flood                943\n",
       "Recon-PortScan                898\n",
       "VulnerabilityScan             589\n",
       "DDoS-HTTP_Flood               515\n",
       "DDoS-SlowLoris                305\n",
       "DictionaryBruteForce          136\n",
       "BrowserHijacking               82\n",
       "SqlInjection                   74\n",
       "CommandInjection               44\n",
       "Backdoor_Malware               26\n",
       "XSS                            15\n",
       "Recon-PingSweep                 8\n",
       "Uploading_Attack                4\n",
       "Name: count, dtype: int64"
      ]
     },
     "execution_count": 25,
     "metadata": {},
     "output_type": "execute_result"
    }
   ],
   "source": [
    "gan_label_v1['label'].value_counts()"
   ]
  },
  {
   "cell_type": "markdown",
   "metadata": {},
   "source": [
    "# Merge attacks in syntesized data"
   ]
  },
  {
   "cell_type": "code",
   "execution_count": 26,
   "metadata": {},
   "outputs": [],
   "source": [
    "gan_label_v1 = mergeAttacks(gan_label_v1, attacks)\n",
    "gan_label_v2 = mergeAttacks(gan_label_v2, attacks)"
   ]
  },
  {
   "cell_type": "markdown",
   "metadata": {},
   "source": [
    "# Drop the major attacks; DDoS, DoS, Mirai"
   ]
  },
  {
   "cell_type": "code",
   "execution_count": 27,
   "metadata": {},
   "outputs": [],
   "source": [
    "def dropMajor(data, label):\n",
    "    \"\"\" Drop the designated attacks\n",
    "\n",
    "    Args:\n",
    "        data(Pandas dataframe): data without labels\n",
    "        label(Pandas dataframe): corresponding labels to data\n",
    "\n",
    "    Return:\n",
    "        (Pandas dataframe): dataframe without designated attacks\n",
    "\n",
    "    \"\"\"\n",
    "    df = pd.concat([data, label], axis=1)\n",
    "    df_filtered = df.drop(df[df['label'].isin(['DDoS', 'DoS', 'Mirai'])].index)\n",
    "    return df_filtered\n"
   ]
  },
  {
   "cell_type": "code",
   "execution_count": 28,
   "metadata": {},
   "outputs": [],
   "source": [
    "gan_dropped_v1 = dropMajor(gan_data_v1, gan_label_v1)\n",
    "gan_dropped_v2 = dropMajor(gan_data_v2, gan_label_v2)"
   ]
  },
  {
   "cell_type": "code",
   "execution_count": 29,
   "metadata": {},
   "outputs": [
    {
     "data": {
      "text/plain": [
       "label\n",
       "BenignTraffic           14901\n",
       "Recon                    3550\n",
       "MITM-ArpSpoofing         3147\n",
       "DNS_Spoofing             1682\n",
       "VulnerabilityScan         589\n",
       "DictionaryBruteForce      136\n",
       "BrowserHijacking           82\n",
       "SqlInjection               74\n",
       "CommandInjection           44\n",
       "Backdoor_Malware           26\n",
       "XSS                        15\n",
       "Uploading_Attack            4\n",
       "Name: count, dtype: int64"
      ]
     },
     "execution_count": 29,
     "metadata": {},
     "output_type": "execute_result"
    }
   ],
   "source": [
    "gan_dropped_v1['label'].value_counts()"
   ]
  },
  {
   "cell_type": "code",
   "execution_count": 30,
   "metadata": {},
   "outputs": [
    {
     "data": {
      "text/plain": [
       "label\n",
       "BenignTraffic           4986\n",
       "Recon                   1206\n",
       "MITM-ArpSpoofing        1067\n",
       "DNS_Spoofing             574\n",
       "VulnerabilityScan        201\n",
       "DictionaryBruteForce      44\n",
       "BrowserHijacking          27\n",
       "SqlInjection              23\n",
       "CommandInjection          13\n",
       "Backdoor_Malware           8\n",
       "XSS                        6\n",
       "Uploading_Attack           3\n",
       "Name: count, dtype: int64"
      ]
     },
     "execution_count": 30,
     "metadata": {},
     "output_type": "execute_result"
    }
   ],
   "source": [
    "gan_dropped_v2['label'].value_counts()"
   ]
  },
  {
   "cell_type": "code",
   "execution_count": 31,
   "metadata": {},
   "outputs": [],
   "source": [
    "gan_dropped_data_v1 = gan_dropped_v1.drop(columns=['label'])\n",
    "gan_dropped_label_v1 = pd.DataFrame(gan_dropped_v1['label'])\n",
    "gan_dropped_data_v2 = gan_dropped_v2.drop(columns=['label'])\n",
    "gan_dropped_label_v2 = pd.DataFrame(gan_dropped_v2['label'])"
   ]
  },
  {
   "cell_type": "markdown",
   "metadata": {},
   "source": [
    "# Merge original and synthesized data together"
   ]
  },
  {
   "cell_type": "code",
   "execution_count": 32,
   "metadata": {},
   "outputs": [],
   "source": [
    "train_data_v1 = pd.concat([train_data, gan_dropped_data_v1], axis=0)\n",
    "train_label_v1 = pd.concat([train_label, gan_dropped_label_v1], axis=0)\n",
    "train_data_v2 = pd.concat([train_data, gan_dropped_data_v2], axis=0)\n",
    "train_label_v2 = pd.concat([train_label, gan_dropped_label_v2], axis=0)"
   ]
  },
  {
   "cell_type": "code",
   "execution_count": 45,
   "metadata": {},
   "outputs": [
    {
     "data": {
      "text/plain": [
       "label\n",
       "DDoS                    173777\n",
       "DoS                      41276\n",
       "BenignTraffic            20501\n",
       "Mirai                    13435\n",
       "Recon                     5200\n",
       "MITM-ArpSpoofing          4761\n",
       "DNS_Spoofing              2607\n",
       "VulnerabilityScan          799\n",
       "DictionaryBruteForce       199\n",
       "BrowserHijacking           112\n",
       "SqlInjection               105\n",
       "CommandInjection            72\n",
       "Backdoor_Malware            48\n",
       "XSS                         33\n",
       "Uploading_Attack            12\n",
       "Name: count, dtype: int64"
      ]
     },
     "execution_count": 45,
     "metadata": {},
     "output_type": "execute_result"
    }
   ],
   "source": [
    "train_label_v1.value_counts()"
   ]
  },
  {
   "cell_type": "code",
   "execution_count": 44,
   "metadata": {},
   "outputs": [
    {
     "data": {
      "text/plain": [
       "label\n",
       "DDoS                    173777\n",
       "DoS                      41276\n",
       "Mirai                    13435\n",
       "BenignTraffic            10586\n",
       "Recon                     2856\n",
       "MITM-ArpSpoofing          2681\n",
       "DNS_Spoofing              1499\n",
       "VulnerabilityScan          411\n",
       "DictionaryBruteForce       107\n",
       "BrowserHijacking            57\n",
       "SqlInjection                54\n",
       "CommandInjection            41\n",
       "Backdoor_Malware            30\n",
       "XSS                         24\n",
       "Uploading_Attack            11\n",
       "Name: count, dtype: int64"
      ]
     },
     "execution_count": 44,
     "metadata": {},
     "output_type": "execute_result"
    }
   ],
   "source": [
    "train_label_v2.value_counts()"
   ]
  },
  {
   "cell_type": "markdown",
   "metadata": {},
   "source": [
    "# Random Forest"
   ]
  },
  {
   "cell_type": "code",
   "execution_count": 34,
   "metadata": {},
   "outputs": [],
   "source": [
    "# make the dataframe into pandas series by selecting specific column\n",
    "train_label_v1 = train_label_v1['label']\n",
    "train_label_v2 = train_label_v2['label']\n",
    "test_label = test_label['label']"
   ]
  },
  {
   "cell_type": "code",
   "execution_count": 35,
   "metadata": {},
   "outputs": [],
   "source": [
    "random_forest_clf_v1 = RandomForestClassifier(n_estimators=100, random_state=23)\n",
    "random_forest_clf_v2 = RandomForestClassifier(n_estimators=100, random_state=23)"
   ]
  },
  {
   "cell_type": "code",
   "execution_count": 36,
   "metadata": {},
   "outputs": [
    {
     "data": {
      "text/html": [
       "<style>#sk-container-id-1 {color: black;}#sk-container-id-1 pre{padding: 0;}#sk-container-id-1 div.sk-toggleable {background-color: white;}#sk-container-id-1 label.sk-toggleable__label {cursor: pointer;display: block;width: 100%;margin-bottom: 0;padding: 0.3em;box-sizing: border-box;text-align: center;}#sk-container-id-1 label.sk-toggleable__label-arrow:before {content: \"▸\";float: left;margin-right: 0.25em;color: #696969;}#sk-container-id-1 label.sk-toggleable__label-arrow:hover:before {color: black;}#sk-container-id-1 div.sk-estimator:hover label.sk-toggleable__label-arrow:before {color: black;}#sk-container-id-1 div.sk-toggleable__content {max-height: 0;max-width: 0;overflow: hidden;text-align: left;background-color: #f0f8ff;}#sk-container-id-1 div.sk-toggleable__content pre {margin: 0.2em;color: black;border-radius: 0.25em;background-color: #f0f8ff;}#sk-container-id-1 input.sk-toggleable__control:checked~div.sk-toggleable__content {max-height: 200px;max-width: 100%;overflow: auto;}#sk-container-id-1 input.sk-toggleable__control:checked~label.sk-toggleable__label-arrow:before {content: \"▾\";}#sk-container-id-1 div.sk-estimator input.sk-toggleable__control:checked~label.sk-toggleable__label {background-color: #d4ebff;}#sk-container-id-1 div.sk-label input.sk-toggleable__control:checked~label.sk-toggleable__label {background-color: #d4ebff;}#sk-container-id-1 input.sk-hidden--visually {border: 0;clip: rect(1px 1px 1px 1px);clip: rect(1px, 1px, 1px, 1px);height: 1px;margin: -1px;overflow: hidden;padding: 0;position: absolute;width: 1px;}#sk-container-id-1 div.sk-estimator {font-family: monospace;background-color: #f0f8ff;border: 1px dotted black;border-radius: 0.25em;box-sizing: border-box;margin-bottom: 0.5em;}#sk-container-id-1 div.sk-estimator:hover {background-color: #d4ebff;}#sk-container-id-1 div.sk-parallel-item::after {content: \"\";width: 100%;border-bottom: 1px solid gray;flex-grow: 1;}#sk-container-id-1 div.sk-label:hover label.sk-toggleable__label {background-color: #d4ebff;}#sk-container-id-1 div.sk-serial::before {content: \"\";position: absolute;border-left: 1px solid gray;box-sizing: border-box;top: 0;bottom: 0;left: 50%;z-index: 0;}#sk-container-id-1 div.sk-serial {display: flex;flex-direction: column;align-items: center;background-color: white;padding-right: 0.2em;padding-left: 0.2em;position: relative;}#sk-container-id-1 div.sk-item {position: relative;z-index: 1;}#sk-container-id-1 div.sk-parallel {display: flex;align-items: stretch;justify-content: center;background-color: white;position: relative;}#sk-container-id-1 div.sk-item::before, #sk-container-id-1 div.sk-parallel-item::before {content: \"\";position: absolute;border-left: 1px solid gray;box-sizing: border-box;top: 0;bottom: 0;left: 50%;z-index: -1;}#sk-container-id-1 div.sk-parallel-item {display: flex;flex-direction: column;z-index: 1;position: relative;background-color: white;}#sk-container-id-1 div.sk-parallel-item:first-child::after {align-self: flex-end;width: 50%;}#sk-container-id-1 div.sk-parallel-item:last-child::after {align-self: flex-start;width: 50%;}#sk-container-id-1 div.sk-parallel-item:only-child::after {width: 0;}#sk-container-id-1 div.sk-dashed-wrapped {border: 1px dashed gray;margin: 0 0.4em 0.5em 0.4em;box-sizing: border-box;padding-bottom: 0.4em;background-color: white;}#sk-container-id-1 div.sk-label label {font-family: monospace;font-weight: bold;display: inline-block;line-height: 1.2em;}#sk-container-id-1 div.sk-label-container {text-align: center;}#sk-container-id-1 div.sk-container {/* jupyter's `normalize.less` sets `[hidden] { display: none; }` but bootstrap.min.css set `[hidden] { display: none !important; }` so we also need the `!important` here to be able to override the default hidden behavior on the sphinx rendered scikit-learn.org. See: https://github.com/scikit-learn/scikit-learn/issues/21755 */display: inline-block !important;position: relative;}#sk-container-id-1 div.sk-text-repr-fallback {display: none;}</style><div id=\"sk-container-id-1\" class=\"sk-top-container\"><div class=\"sk-text-repr-fallback\"><pre>RandomForestClassifier(random_state=23)</pre><b>In a Jupyter environment, please rerun this cell to show the HTML representation or trust the notebook. <br />On GitHub, the HTML representation is unable to render, please try loading this page with nbviewer.org.</b></div><div class=\"sk-container\" hidden><div class=\"sk-item\"><div class=\"sk-estimator sk-toggleable\"><input class=\"sk-toggleable__control sk-hidden--visually\" id=\"sk-estimator-id-1\" type=\"checkbox\" checked><label for=\"sk-estimator-id-1\" class=\"sk-toggleable__label sk-toggleable__label-arrow\">RandomForestClassifier</label><div class=\"sk-toggleable__content\"><pre>RandomForestClassifier(random_state=23)</pre></div></div></div></div></div>"
      ],
      "text/plain": [
       "RandomForestClassifier(random_state=23)"
      ]
     },
     "execution_count": 36,
     "metadata": {},
     "output_type": "execute_result"
    }
   ],
   "source": [
    "# takes [25]secs in m1 mac\n",
    "random_forest_clf_v1.fit(train_data_v1, train_label_v1)"
   ]
  },
  {
   "cell_type": "code",
   "execution_count": 37,
   "metadata": {},
   "outputs": [
    {
     "data": {
      "text/html": [
       "<style>#sk-container-id-2 {color: black;}#sk-container-id-2 pre{padding: 0;}#sk-container-id-2 div.sk-toggleable {background-color: white;}#sk-container-id-2 label.sk-toggleable__label {cursor: pointer;display: block;width: 100%;margin-bottom: 0;padding: 0.3em;box-sizing: border-box;text-align: center;}#sk-container-id-2 label.sk-toggleable__label-arrow:before {content: \"▸\";float: left;margin-right: 0.25em;color: #696969;}#sk-container-id-2 label.sk-toggleable__label-arrow:hover:before {color: black;}#sk-container-id-2 div.sk-estimator:hover label.sk-toggleable__label-arrow:before {color: black;}#sk-container-id-2 div.sk-toggleable__content {max-height: 0;max-width: 0;overflow: hidden;text-align: left;background-color: #f0f8ff;}#sk-container-id-2 div.sk-toggleable__content pre {margin: 0.2em;color: black;border-radius: 0.25em;background-color: #f0f8ff;}#sk-container-id-2 input.sk-toggleable__control:checked~div.sk-toggleable__content {max-height: 200px;max-width: 100%;overflow: auto;}#sk-container-id-2 input.sk-toggleable__control:checked~label.sk-toggleable__label-arrow:before {content: \"▾\";}#sk-container-id-2 div.sk-estimator input.sk-toggleable__control:checked~label.sk-toggleable__label {background-color: #d4ebff;}#sk-container-id-2 div.sk-label input.sk-toggleable__control:checked~label.sk-toggleable__label {background-color: #d4ebff;}#sk-container-id-2 input.sk-hidden--visually {border: 0;clip: rect(1px 1px 1px 1px);clip: rect(1px, 1px, 1px, 1px);height: 1px;margin: -1px;overflow: hidden;padding: 0;position: absolute;width: 1px;}#sk-container-id-2 div.sk-estimator {font-family: monospace;background-color: #f0f8ff;border: 1px dotted black;border-radius: 0.25em;box-sizing: border-box;margin-bottom: 0.5em;}#sk-container-id-2 div.sk-estimator:hover {background-color: #d4ebff;}#sk-container-id-2 div.sk-parallel-item::after {content: \"\";width: 100%;border-bottom: 1px solid gray;flex-grow: 1;}#sk-container-id-2 div.sk-label:hover label.sk-toggleable__label {background-color: #d4ebff;}#sk-container-id-2 div.sk-serial::before {content: \"\";position: absolute;border-left: 1px solid gray;box-sizing: border-box;top: 0;bottom: 0;left: 50%;z-index: 0;}#sk-container-id-2 div.sk-serial {display: flex;flex-direction: column;align-items: center;background-color: white;padding-right: 0.2em;padding-left: 0.2em;position: relative;}#sk-container-id-2 div.sk-item {position: relative;z-index: 1;}#sk-container-id-2 div.sk-parallel {display: flex;align-items: stretch;justify-content: center;background-color: white;position: relative;}#sk-container-id-2 div.sk-item::before, #sk-container-id-2 div.sk-parallel-item::before {content: \"\";position: absolute;border-left: 1px solid gray;box-sizing: border-box;top: 0;bottom: 0;left: 50%;z-index: -1;}#sk-container-id-2 div.sk-parallel-item {display: flex;flex-direction: column;z-index: 1;position: relative;background-color: white;}#sk-container-id-2 div.sk-parallel-item:first-child::after {align-self: flex-end;width: 50%;}#sk-container-id-2 div.sk-parallel-item:last-child::after {align-self: flex-start;width: 50%;}#sk-container-id-2 div.sk-parallel-item:only-child::after {width: 0;}#sk-container-id-2 div.sk-dashed-wrapped {border: 1px dashed gray;margin: 0 0.4em 0.5em 0.4em;box-sizing: border-box;padding-bottom: 0.4em;background-color: white;}#sk-container-id-2 div.sk-label label {font-family: monospace;font-weight: bold;display: inline-block;line-height: 1.2em;}#sk-container-id-2 div.sk-label-container {text-align: center;}#sk-container-id-2 div.sk-container {/* jupyter's `normalize.less` sets `[hidden] { display: none; }` but bootstrap.min.css set `[hidden] { display: none !important; }` so we also need the `!important` here to be able to override the default hidden behavior on the sphinx rendered scikit-learn.org. See: https://github.com/scikit-learn/scikit-learn/issues/21755 */display: inline-block !important;position: relative;}#sk-container-id-2 div.sk-text-repr-fallback {display: none;}</style><div id=\"sk-container-id-2\" class=\"sk-top-container\"><div class=\"sk-text-repr-fallback\"><pre>RandomForestClassifier(random_state=23)</pre><b>In a Jupyter environment, please rerun this cell to show the HTML representation or trust the notebook. <br />On GitHub, the HTML representation is unable to render, please try loading this page with nbviewer.org.</b></div><div class=\"sk-container\" hidden><div class=\"sk-item\"><div class=\"sk-estimator sk-toggleable\"><input class=\"sk-toggleable__control sk-hidden--visually\" id=\"sk-estimator-id-2\" type=\"checkbox\" checked><label for=\"sk-estimator-id-2\" class=\"sk-toggleable__label sk-toggleable__label-arrow\">RandomForestClassifier</label><div class=\"sk-toggleable__content\"><pre>RandomForestClassifier(random_state=23)</pre></div></div></div></div></div>"
      ],
      "text/plain": [
       "RandomForestClassifier(random_state=23)"
      ]
     },
     "execution_count": 37,
     "metadata": {},
     "output_type": "execute_result"
    }
   ],
   "source": [
    "random_forest_clf_v2.fit(train_data_v2, train_label_v2)"
   ]
  },
  {
   "cell_type": "markdown",
   "metadata": {},
   "source": [
    "# prediction"
   ]
  },
  {
   "cell_type": "code",
   "execution_count": 46,
   "metadata": {},
   "outputs": [],
   "source": [
    "prediction_v1 = random_forest_clf_v1.predict(test_data)"
   ]
  },
  {
   "cell_type": "code",
   "execution_count": 47,
   "metadata": {},
   "outputs": [],
   "source": [
    "prediction_v2 = random_forest_clf_v2.predict(test_data)"
   ]
  },
  {
   "cell_type": "markdown",
   "metadata": {},
   "source": [
    "# evaluate"
   ]
  },
  {
   "cell_type": "code",
   "execution_count": 48,
   "metadata": {},
   "outputs": [
    {
     "name": "stdout",
     "output_type": "stream",
     "text": [
      "0.994118050318777\n",
      "0.9941866045108658\n"
     ]
    }
   ],
   "source": [
    "accuracy_v1 = accuracy_score(test_label, prediction_v1)\n",
    "print(accuracy_v1)\n",
    "\n",
    "accuracy_v2 = accuracy_score(test_label, prediction_v2)\n",
    "print(accuracy_v2)"
   ]
  },
  {
   "cell_type": "markdown",
   "metadata": {},
   "source": [
    "# Traffics that are evaluated as BenignTraffics"
   ]
  },
  {
   "cell_type": "code",
   "execution_count": 50,
   "metadata": {},
   "outputs": [],
   "source": [
    "indices_unknown_v1 = np.where(prediction_v1 == \"BenignTraffic\")[0]\n",
    "indices_unknown_v2 = np.where(prediction_v2 == \"BenignTraffic\")[0]"
   ]
  },
  {
   "cell_type": "code",
   "execution_count": 51,
   "metadata": {},
   "outputs": [],
   "source": [
    "test_unknown_data_v1 = test_data.iloc[indices_unknown_v1]\n",
    "test_unknown_label_v1 = test_label.iloc[indices_unknown_v1]\n",
    "\n",
    "test_unknown_data_v2 = test_data.iloc[indices_unknown_v2]\n",
    "test_unknown_label_v2 = test_label.iloc[indices_unknown_v2]"
   ]
  },
  {
   "cell_type": "code",
   "execution_count": 52,
   "metadata": {},
   "outputs": [
    {
     "name": "stdout",
     "output_type": "stream",
     "text": [
      "label\n",
      "BenignTraffic           5073\n",
      "Recon                    266\n",
      "MITM-ArpSpoofing         179\n",
      "DNS_Spoofing             125\n",
      "DictionaryBruteForce      18\n",
      "SqlInjection              10\n",
      "CommandInjection           4\n",
      "BrowserHijacking           4\n",
      "XSS                        3\n",
      "Backdoor_Malware           2\n",
      "DoS                        1\n",
      "VulnerabilityScan          1\n",
      "Name: count, dtype: int64\n"
     ]
    }
   ],
   "source": [
    "tmp_v1 = test_unknown_label_v1.value_counts()\n",
    "print(tmp_v1)"
   ]
  },
  {
   "cell_type": "code",
   "execution_count": 53,
   "metadata": {},
   "outputs": [
    {
     "name": "stdout",
     "output_type": "stream",
     "text": [
      "label\n",
      "BenignTraffic           5062\n",
      "Recon                    258\n",
      "MITM-ArpSpoofing         191\n",
      "DNS_Spoofing             135\n",
      "DictionaryBruteForce      21\n",
      "SqlInjection              11\n",
      "BrowserHijacking           4\n",
      "Backdoor_Malware           3\n",
      "CommandInjection           3\n",
      "XSS                        2\n",
      "VulnerabilityScan          1\n",
      "Name: count, dtype: int64\n"
     ]
    }
   ],
   "source": [
    "tmp_v2 = test_unknown_label_v2.value_counts()\n",
    "print(tmp_v2)"
   ]
  },
  {
   "cell_type": "markdown",
   "metadata": {},
   "source": [
    "# Export the unknown data"
   ]
  },
  {
   "cell_type": "code",
   "execution_count": 54,
   "metadata": {},
   "outputs": [
    {
     "name": "stdout",
     "output_type": "stream",
     "text": [
      "<class 'pandas.core.frame.DataFrame'>\n",
      "<class 'pandas.core.series.Series'>\n"
     ]
    }
   ],
   "source": [
    "print(type(test_unknown_data_v1))\n",
    "print(type(test_unknown_label_v1))"
   ]
  },
  {
   "cell_type": "code",
   "execution_count": 55,
   "metadata": {},
   "outputs": [],
   "source": [
    "test_unknown_data_v1.to_csv('./data/3_rf_test_unknown_data_v1.csv', index=False)\n",
    "test_unknown_label_v1.to_csv('./data/3_rf_test_unknown_label_v1.csv', index=False)"
   ]
  },
  {
   "cell_type": "code",
   "execution_count": 56,
   "metadata": {},
   "outputs": [],
   "source": [
    "test_unknown_data_v2.to_csv('./data/3_rf_test_unknown_data_v2.csv', index=False)\n",
    "test_unknown_label_v2.to_csv('./data/3_rf_test_unknown_label_v2.csv', index=False)"
   ]
  },
  {
   "cell_type": "markdown",
   "metadata": {},
   "source": []
  }
 ],
 "metadata": {
  "kernelspec": {
   "display_name": "Python 3.11.5 64-bit",
   "language": "python",
   "name": "python3"
  },
  "language_info": {
   "codemirror_mode": {
    "name": "ipython",
    "version": 3
   },
   "file_extension": ".py",
   "mimetype": "text/x-python",
   "name": "python",
   "nbconvert_exporter": "python",
   "pygments_lexer": "ipython3",
   "version": "3.11.5"
  },
  "orig_nbformat": 4,
  "vscode": {
   "interpreter": {
    "hash": "b0fa6594d8f4cbf19f97940f81e996739fb7646882a419484c72d19e05852a7e"
   }
  }
 },
 "nbformat": 4,
 "nbformat_minor": 2
}
