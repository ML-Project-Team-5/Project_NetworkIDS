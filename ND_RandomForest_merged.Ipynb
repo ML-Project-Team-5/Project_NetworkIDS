{
 "cells": [
  {
   "cell_type": "markdown",
   "metadata": {},
   "source": [
    "# import modules"
   ]
  },
  {
   "cell_type": "code",
   "execution_count": 1,
   "metadata": {},
   "outputs": [],
   "source": [
    "from sklearn.datasets import fetch_openml\n",
    "from sklearn.model_selection import train_test_split\n",
    "from sklearn.ensemble  import RandomForestClassifier\n",
    "from sklearn.metrics import accuracy_score\n",
    "import pandas as pd\n",
    "import numpy as np"
   ]
  },
  {
   "cell_type": "markdown",
   "metadata": {},
   "source": [
    "# import train and test dataset"
   ]
  },
  {
   "cell_type": "code",
   "execution_count": 2,
   "metadata": {},
   "outputs": [],
   "source": [
    "train_csv_file_path = './data/part-00000-363d1ba3-8ab5-4f96-bc25-4d5862db7cb9-c000.csv'\n",
    "train_raw_data = pd.read_csv(train_csv_file_path)\n",
    "\n",
    "test_csv_file_path = './data/part-00001-363d1ba3-8ab5-4f96-bc25-4d5862db7cb9-c000.csv'\n",
    "test_raw_data = pd.read_csv(test_csv_file_path)"
   ]
  },
  {
   "cell_type": "code",
   "execution_count": 3,
   "metadata": {},
   "outputs": [],
   "source": [
    "train_data = train_raw_data.iloc[0:, :-1]\n",
    "train_label = train_raw_data.iloc[0:, -1]\n",
    "\n",
    "test_data = test_raw_data.iloc[0:, :-1]\n",
    "test_label = test_raw_data.iloc[0:, -1]"
   ]
  },
  {
   "cell_type": "code",
   "execution_count": 4,
   "metadata": {},
   "outputs": [],
   "source": [
    "train_label = pd.DataFrame(train_label)\n",
    "test_label = pd.DataFrame(test_label)"
   ]
  },
  {
   "cell_type": "code",
   "execution_count": 5,
   "metadata": {},
   "outputs": [],
   "source": [
    "unique = train_label[\"label\"].unique()\n",
    "attacks = ['DDoS', 'DoS', 'Mirai', 'Recon']"
   ]
  },
  {
   "cell_type": "code",
   "execution_count": 6,
   "metadata": {},
   "outputs": [],
   "source": [
    "def attackLists(dataframe):\n",
    "    \"\"\" find unique attacks\n",
    "\n",
    "    Args: \n",
    "        dataframe(Pandas Dataframe): Contains specific attacks\n",
    "    \n",
    "    Return:\n",
    "        attack_specifics: list of lists\n",
    "    \"\"\"\n",
    "\n",
    "    unique = dataframe[\"label\"].unique()\n",
    "\n",
    "    attack_specifics = []\n",
    "\n",
    "    DDoS = [element for element in unique if 'DDoS' in element]\n",
    "    DoS = [element for element in unique if 'DoS' in element and 'DDoS' not in element]\n",
    "    Mirai = [element for element in unique if 'Mirai' in element]\n",
    "    Recon = [element for element in unique if 'Recon' in element]\n",
    "\n",
    "    attack_specifics.append(DDoS)\n",
    "    attack_specifics.append(DoS)\n",
    "    attack_specifics.append(Mirai)\n",
    "    attack_specifics.append(Recon)\n",
    "\n",
    "    return unique, attack_specifics"
   ]
  },
  {
   "cell_type": "code",
   "execution_count": 7,
   "metadata": {},
   "outputs": [
    {
     "name": "stdout",
     "output_type": "stream",
     "text": [
      "types of attacks in training lable: 34\n",
      "types of DDoS: 12\n",
      "types of DoS: 4\n",
      "types of Mirai: 3\n",
      "types of Recon: 4\n"
     ]
    }
   ],
   "source": [
    "train_unique, train_attack_specifics = attackLists(train_label)\n",
    "\n",
    "print(f'types of attacks in training lable: {len(train_unique)}')\n",
    "\n",
    "for index, attack in enumerate(train_attack_specifics):\n",
    "    print(f'types of {attacks[index]}: {len(attack)}')"
   ]
  },
  {
   "cell_type": "code",
   "execution_count": 8,
   "metadata": {},
   "outputs": [],
   "source": [
    "def mergeAttacks(dataframe, attacks):\n",
    "    \"\"\" Merge attacks into big category\n",
    "\n",
    "    Args:\n",
    "        dataframe(Pandas dataframe): Contains specific attacks\n",
    "\n",
    "    Return:\n",
    "        (Pandas dataframe): merged dataframe\n",
    "    \"\"\"\n",
    "\n",
    "    dataframe.loc[dataframe['label'].str.contains('DDoS'), 'label'] = 'andrew'\n",
    "\n",
    "    for attack in attacks:\n",
    "        if attack == 'DDoS':\n",
    "            continue\n",
    "        dataframe.loc[dataframe['label'].str.contains(attack), 'label'] = attack\n",
    "    \n",
    "    dataframe.loc[dataframe['label'].str.contains('andrew'), 'label'] = 'DDoS'\n",
    "    \n",
    "    return dataframe"
   ]
  },
  {
   "cell_type": "code",
   "execution_count": 10,
   "metadata": {},
   "outputs": [
    {
     "name": "stdout",
     "output_type": "stream",
     "text": [
      "types of attacks in train_label after merged: 15\n"
     ]
    }
   ],
   "source": [
    "train_label =  mergeAttacks(train_label, attacks)\n",
    "unique = train_label[\"label\"].unique()\n",
    "print(f'types of attacks in train_label after merged: {len(unique)}')"
   ]
  },
  {
   "cell_type": "code",
   "execution_count": 12,
   "metadata": {},
   "outputs": [
    {
     "name": "stdout",
     "output_type": "stream",
     "text": [
      "types of attacks after merged: 15\n"
     ]
    }
   ],
   "source": [
    "test_label = mergeAttacks(test_label, attacks)\n",
    "unique_test = test_label[\"label\"].unique()\n",
    "print(f'types of attacks after merged: {len(unique_test)}')"
   ]
  },
  {
   "cell_type": "markdown",
   "metadata": {},
   "source": [
    "# Random Forest"
   ]
  },
  {
   "cell_type": "code",
   "execution_count": null,
   "metadata": {},
   "outputs": [],
   "source": [
    "random_forest_clf = RandomForestClassifier(n_estimators=100, random_state=23)"
   ]
  },
  {
   "cell_type": "code",
   "execution_count": null,
   "metadata": {},
   "outputs": [],
   "source": [
    "random_forest_clf.fit(train_data, train_label)\n",
    "\n",
    "# takes [25]secs in m1 mac"
   ]
  },
  {
   "cell_type": "markdown",
   "metadata": {},
   "source": [
    "# prediction"
   ]
  },
  {
   "cell_type": "code",
   "execution_count": null,
   "metadata": {},
   "outputs": [],
   "source": [
    "prediction = random_forest_clf.predict(test_data)"
   ]
  },
  {
   "cell_type": "code",
   "execution_count": null,
   "metadata": {},
   "outputs": [],
   "source": [
    "print(type(prediction))\n",
    "print(prediction[:5])"
   ]
  },
  {
   "cell_type": "markdown",
   "metadata": {},
   "source": [
    "# evaluate"
   ]
  },
  {
   "cell_type": "code",
   "execution_count": null,
   "metadata": {},
   "outputs": [],
   "source": [
    "accuracy = accuracy_score(test_label, prediction)\n",
    "print(accuracy)"
   ]
  },
  {
   "cell_type": "markdown",
   "metadata": {},
   "source": [
    "# Traffics that are evaluated as BenignTraffics"
   ]
  },
  {
   "cell_type": "code",
   "execution_count": null,
   "metadata": {},
   "outputs": [],
   "source": [
    "indices_unknown = np.where(prediction == \"BenignTraffic\")[0]"
   ]
  },
  {
   "cell_type": "code",
   "execution_count": null,
   "metadata": {},
   "outputs": [],
   "source": [
    "print(type(test_data))"
   ]
  },
  {
   "cell_type": "code",
   "execution_count": null,
   "metadata": {},
   "outputs": [],
   "source": [
    "test_unknown_data = test_data.iloc[indices_unknown]\n",
    "test_unknown_label = test_label.iloc[indices_unknown]"
   ]
  },
  {
   "cell_type": "code",
   "execution_count": null,
   "metadata": {},
   "outputs": [],
   "source": [
    "tmp = test_unknown_label.value_counts()\n",
    "print(tmp)"
   ]
  },
  {
   "cell_type": "markdown",
   "metadata": {},
   "source": [
    "# Export the unknown data"
   ]
  },
  {
   "cell_type": "code",
   "execution_count": null,
   "metadata": {},
   "outputs": [],
   "source": [
    "print(type(test_unknown_data))\n",
    "print(type(test_unknown_label))"
   ]
  },
  {
   "cell_type": "code",
   "execution_count": null,
   "metadata": {},
   "outputs": [],
   "source": [
    "test_unknown_data.to_csv('./data/test_unknown_data.csv', index=False)\n",
    "test_unknown_label.to_csv('./data/test_unknown_label.csv', index=False)"
   ]
  },
  {
   "cell_type": "markdown",
   "metadata": {},
   "source": [
    "# TODO:\n",
    "\n",
    "## test synthesized data"
   ]
  },
  {
   "cell_type": "markdown",
   "metadata": {},
   "source": []
  }
 ],
 "metadata": {
  "kernelspec": {
   "display_name": "Python 3.11.5 64-bit",
   "language": "python",
   "name": "python3"
  },
  "language_info": {
   "codemirror_mode": {
    "name": "ipython",
    "version": 3
   },
   "file_extension": ".py",
   "mimetype": "text/x-python",
   "name": "python",
   "nbconvert_exporter": "python",
   "pygments_lexer": "ipython3",
   "version": "3.11.5"
  },
  "orig_nbformat": 4,
  "vscode": {
   "interpreter": {
    "hash": "b0fa6594d8f4cbf19f97940f81e996739fb7646882a419484c72d19e05852a7e"
   }
  }
 },
 "nbformat": 4,
 "nbformat_minor": 2
}
