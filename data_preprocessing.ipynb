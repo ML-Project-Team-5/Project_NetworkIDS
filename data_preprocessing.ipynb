{
 "cells": [
  {
   "cell_type": "code",
   "execution_count": 17,
   "metadata": {},
   "outputs": [],
   "source": [
    "import pandas as pd\n",
    "import torch"
   ]
  },
  {
   "cell_type": "code",
   "execution_count": 18,
   "metadata": {},
   "outputs": [],
   "source": [
    "csv_file_path = './part-00000-363d1ba3-8ab5-4f96-bc25-4d5862db7cb9-c000.csv'\n",
    "raw_data = pd.read_csv(csv_file_path)"
   ]
  },
  {
   "cell_type": "code",
   "execution_count": 19,
   "metadata": {},
   "outputs": [
    {
     "name": "stdout",
     "output_type": "stream",
     "text": [
      "   flow_duration  Header_Length  Protocol Type  Duration         Rate  \\\n",
      "0       0.000000          54.00           6.00     64.00     0.329807   \n",
      "1       0.000000          57.04           6.33     64.00     4.290556   \n",
      "2       0.000000           0.00           1.00     64.00    33.396799   \n",
      "3       0.328175       76175.00          17.00     64.00  4642.133010   \n",
      "4       0.117320         101.73           6.11     65.91     6.202211   \n",
      "\n",
      "         Srate  Drate  fin_flag_number  syn_flag_number  rst_flag_number  ...  \\\n",
      "0     0.329807    0.0              1.0              0.0              1.0  ...   \n",
      "1     4.290556    0.0              0.0              0.0              0.0  ...   \n",
      "2    33.396799    0.0              0.0              0.0              0.0  ...   \n",
      "3  4642.133010    0.0              0.0              0.0              0.0  ...   \n",
      "4     6.202211    0.0              0.0              1.0              0.0  ...   \n",
      "\n",
      "         Std  Tot size           IAT  Number   Magnitue     Radius  \\\n",
      "0   0.000000     54.00  8.334383e+07     9.5  10.392305   0.000000   \n",
      "1   2.822973     57.04  8.292607e+07     9.5  10.464666   4.010353   \n",
      "2   0.000000     42.00  8.312799e+07     9.5   9.165151   0.000000   \n",
      "3   0.000000     50.00  8.301570e+07     9.5  10.000000   0.000000   \n",
      "4  23.113111     57.88  8.297300e+07     9.5  11.346876  32.716243   \n",
      "\n",
      "    Covariance  Variance  Weight             label  \n",
      "0     0.000000      0.00  141.55  DDoS-RSTFINFlood  \n",
      "1   160.987842      0.05  141.55     DoS-TCP_Flood  \n",
      "2     0.000000      0.00  141.55   DDoS-ICMP_Flood  \n",
      "3     0.000000      0.00  141.55     DoS-UDP_Flood  \n",
      "4  3016.808286      0.19  141.55     DoS-SYN_Flood  \n",
      "\n",
      "[5 rows x 47 columns]\n"
     ]
    }
   ],
   "source": [
    "print(raw_data.head(5))"
   ]
  },
  {
   "cell_type": "code",
   "execution_count": 20,
   "metadata": {},
   "outputs": [],
   "source": [
    "# iloc: integer location [row, column]\n",
    "# store only data (not column name)\n",
    "# use iloc, not just slicing.\n",
    "data = raw_data.iloc[1:, :-1]\n",
    "label = raw_data.iloc[:, -1]"
   ]
  },
  {
   "cell_type": "code",
   "execution_count": 21,
   "metadata": {},
   "outputs": [
    {
     "name": "stdout",
     "output_type": "stream",
     "text": [
      "(238686, 46)\n",
      "   flow_duration  Header_Length  Protocol Type  Duration         Rate  \\\n",
      "1       0.000000          57.04           6.33     64.00     4.290556   \n",
      "2       0.000000           0.00           1.00     64.00    33.396799   \n",
      "3       0.328175       76175.00          17.00     64.00  4642.133010   \n",
      "4       0.117320         101.73           6.11     65.91     6.202211   \n",
      "5       0.000000           0.00          47.00     64.00     1.954123   \n",
      "\n",
      "         Srate  Drate  fin_flag_number  syn_flag_number  rst_flag_number  ...  \\\n",
      "1     4.290556    0.0              0.0              0.0              0.0  ...   \n",
      "2    33.396799    0.0              0.0              0.0              0.0  ...   \n",
      "3  4642.133010    0.0              0.0              0.0              0.0  ...   \n",
      "4     6.202211    0.0              0.0              1.0              0.0  ...   \n",
      "5     1.954123    0.0              0.0              0.0              0.0  ...   \n",
      "\n",
      "          AVG        Std  Tot size           IAT  Number   Magnitue  \\\n",
      "1   54.796404   2.822973     57.04  8.292607e+07     9.5  10.464666   \n",
      "2   42.000000   0.000000     42.00  8.312799e+07     9.5   9.165151   \n",
      "3   50.000000   0.000000     50.00  8.301570e+07     9.5  10.000000   \n",
      "4   67.959230  23.113111     57.88  8.297300e+07     9.5  11.346876   \n",
      "5  592.000000   0.000000    592.00  8.369840e+07     9.5  34.409301   \n",
      "\n",
      "      Radius   Covariance  Variance  Weight  \n",
      "1   4.010353   160.987842      0.05  141.55  \n",
      "2   0.000000     0.000000      0.00  141.55  \n",
      "3   0.000000     0.000000      0.00  141.55  \n",
      "4  32.716243  3016.808286      0.19  141.55  \n",
      "5   0.000000     0.000000      0.00  141.55  \n",
      "\n",
      "[5 rows x 46 columns]\n",
      "(238687,)\n",
      "0    DDoS-RSTFINFlood\n",
      "1       DoS-TCP_Flood\n",
      "2     DDoS-ICMP_Flood\n",
      "3       DoS-UDP_Flood\n",
      "4       DoS-SYN_Flood\n",
      "Name: label, dtype: object\n"
     ]
    }
   ],
   "source": [
    "print(data.shape)\n",
    "print(data.head(5))\n",
    "print(label.shape)\n",
    "print(label.head(5))"
   ]
  },
  {
   "cell_type": "code",
   "execution_count": 22,
   "metadata": {},
   "outputs": [],
   "source": [
    "unique_label = label.unique()"
   ]
  },
  {
   "cell_type": "code",
   "execution_count": 23,
   "metadata": {},
   "outputs": [
    {
     "name": "stdout",
     "output_type": "stream",
     "text": [
      "34\n",
      "['DDoS-RSTFINFlood' 'DoS-TCP_Flood' 'DDoS-ICMP_Flood' 'DoS-UDP_Flood'\n",
      " 'DoS-SYN_Flood' 'Mirai-greeth_flood' 'DDoS-SynonymousIP_Flood'\n",
      " 'Mirai-udpplain' 'DDoS-SYN_Flood' 'DDoS-PSHACK_Flood' 'DDoS-TCP_Flood'\n",
      " 'DDoS-UDP_Flood' 'BenignTraffic' 'MITM-ArpSpoofing'\n",
      " 'DDoS-ACK_Fragmentation' 'Mirai-greip_flood' 'DoS-HTTP_Flood'\n",
      " 'DDoS-ICMP_Fragmentation' 'Recon-PortScan' 'DNS_Spoofing'\n",
      " 'DDoS-UDP_Fragmentation' 'Recon-OSScan' 'XSS' 'DDoS-HTTP_Flood'\n",
      " 'Recon-HostDiscovery' 'CommandInjection' 'VulnerabilityScan'\n",
      " 'DDoS-SlowLoris' 'Backdoor_Malware' 'BrowserHijacking'\n",
      " 'DictionaryBruteForce' 'SqlInjection' 'Recon-PingSweep'\n",
      " 'Uploading_Attack']\n"
     ]
    }
   ],
   "source": [
    "print(len(unique_label))\n",
    "print(unique_label)"
   ]
  },
  {
   "cell_type": "code",
   "execution_count": 24,
   "metadata": {},
   "outputs": [
    {
     "name": "stdout",
     "output_type": "stream",
     "text": [
      "Index(['flow_duration', 'Header_Length', 'Protocol Type', 'Duration', 'Rate',\n",
      "       'Srate', 'Drate', 'fin_flag_number', 'syn_flag_number',\n",
      "       'rst_flag_number', 'psh_flag_number', 'ack_flag_number',\n",
      "       'ece_flag_number', 'cwr_flag_number', 'ack_count', 'syn_count',\n",
      "       'fin_count', 'urg_count', 'rst_count', 'HTTP', 'HTTPS', 'DNS', 'Telnet',\n",
      "       'SMTP', 'SSH', 'IRC', 'TCP', 'UDP', 'DHCP', 'ARP', 'ICMP', 'IPv', 'LLC',\n",
      "       'Tot sum', 'Min', 'Max', 'AVG', 'Std', 'Tot size', 'IAT', 'Number',\n",
      "       'Magnitue', 'Radius', 'Covariance', 'Variance', 'Weight', 'label'],\n",
      "      dtype='object')\n"
     ]
    }
   ],
   "source": [
    "print(raw_data.columns)"
   ]
  },
  {
   "cell_type": "code",
   "execution_count": 26,
   "metadata": {},
   "outputs": [
    {
     "name": "stdout",
     "output_type": "stream",
     "text": [
      "label\n",
      "DDoS-ICMP_Flood            36554\n",
      "DDoS-UDP_Flood             27626\n",
      "DDoS-TCP_Flood             23149\n",
      "DDoS-PSHACK_Flood          21210\n",
      "DDoS-SYN_Flood             20739\n",
      "DDoS-RSTFINFlood           20669\n",
      "DDoS-SynonymousIP_Flood    18189\n",
      "DoS-UDP_Flood              16957\n",
      "DoS-TCP_Flood              13630\n",
      "DoS-SYN_Flood              10275\n",
      "BenignTraffic               5600\n",
      "Mirai-greeth_flood          5016\n",
      "Mirai-udpplain              4661\n",
      "Mirai-greip_flood           3758\n",
      "DDoS-ICMP_Fragmentation     2377\n",
      "MITM-ArpSpoofing            1614\n",
      "DDoS-ACK_Fragmentation      1505\n",
      "DDoS-UDP_Fragmentation      1484\n",
      "DNS_Spoofing                 925\n",
      "Recon-HostDiscovery          697\n",
      "Recon-OSScan                 517\n",
      "Recon-PortScan               430\n",
      "DoS-HTTP_Flood               414\n",
      "VulnerabilityScan            210\n",
      "DDoS-HTTP_Flood              169\n",
      "DDoS-SlowLoris               106\n",
      "DictionaryBruteForce          63\n",
      "SqlInjection                  31\n",
      "BrowserHijacking              30\n",
      "CommandInjection              28\n",
      "Backdoor_Malware              22\n",
      "XSS                           18\n",
      "Uploading_Attack               8\n",
      "Recon-PingSweep                6\n",
      "Name: count, dtype: int64\n"
     ]
    }
   ],
   "source": [
    "label_counts = raw_data['label'].value_counts()\n",
    "print(label_counts)"
   ]
  },
  {
   "cell_type": "code",
   "execution_count": 25,
   "metadata": {},
   "outputs": [],
   "source": [
    "# features = torch.tensor(data.columns.values)\n",
    "# target = torch.tensor(data.values)\n",
    "\n",
    "# print(len(features))\n",
    "# print(features)\n",
    "# print(len(target))\n",
    "# print(target)"
   ]
  },
  {
   "cell_type": "markdown",
   "metadata": {},
   "source": []
  }
 ],
 "metadata": {
  "kernelspec": {
   "display_name": "Python 3.11.5 64-bit",
   "language": "python",
   "name": "python3"
  },
  "language_info": {
   "codemirror_mode": {
    "name": "ipython",
    "version": 3
   },
   "file_extension": ".py",
   "mimetype": "text/x-python",
   "name": "python",
   "nbconvert_exporter": "python",
   "pygments_lexer": "ipython3",
   "version": "3.11.5"
  },
  "orig_nbformat": 4,
  "vscode": {
   "interpreter": {
    "hash": "b0fa6594d8f4cbf19f97940f81e996739fb7646882a419484c72d19e05852a7e"
   }
  }
 },
 "nbformat": 4,
 "nbformat_minor": 2
}
