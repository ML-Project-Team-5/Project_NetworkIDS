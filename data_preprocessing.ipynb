{
 "cells": [
  {
   "cell_type": "code",
   "execution_count": 1,
   "metadata": {},
   "outputs": [],
   "source": [
    "import pandas as pd\n",
    "import torch"
   ]
  },
  {
   "cell_type": "code",
   "execution_count": 2,
   "metadata": {},
   "outputs": [],
   "source": [
    "csv_file_path = './part-00000-363d1ba3-8ab5-4f96-bc25-4d5862db7cb9-c000.csv'\n",
    "data = pd.read_csv(csv_file_path)"
   ]
  },
  {
   "cell_type": "code",
   "execution_count": 3,
   "metadata": {},
   "outputs": [
    {
     "name": "stdout",
     "output_type": "stream",
     "text": [
      "0       0.0      54.0    6.0   64.0  0.3298071530725829  0.3298071530725829  \\\n",
      "1  0.000000     57.04   6.33  64.00            4.290556            4.290556   \n",
      "2  0.000000      0.00   1.00  64.00           33.396799           33.396799   \n",
      "3  0.328175  76175.00  17.00  64.00         4642.133010         4642.133010   \n",
      "4  0.117320    101.73   6.11  65.91            6.202211            6.202211   \n",
      "5  0.000000      0.00  47.00  64.00            1.954123            1.954123   \n",
      "\n",
      "0  0.0  1.0  0.0  1.0  ...        0.0    54.0  83343831.92013878  9.5  \\\n",
      "1  0.0  0.0  0.0  0.0  ...   2.822973   57.04       8.292607e+07  9.5   \n",
      "2  0.0  0.0  0.0  0.0  ...   0.000000   42.00       8.312799e+07  9.5   \n",
      "3  0.0  0.0  0.0  0.0  ...   0.000000   50.00       8.301570e+07  9.5   \n",
      "4  0.0  0.0  1.0  0.0  ...  23.113111   57.88       8.297300e+07  9.5   \n",
      "5  0.0  0.0  0.0  0.0  ...   0.000000  592.00       8.369840e+07  9.5   \n",
      "\n",
      "0  10.392304845413264        0.0          0.0   0.0  141.55  \\\n",
      "1           10.464666   4.010353   160.987842  0.05  141.55   \n",
      "2            9.165151   0.000000     0.000000  0.00  141.55   \n",
      "3           10.000000   0.000000     0.000000  0.00  141.55   \n",
      "4           11.346876  32.716243  3016.808286  0.19  141.55   \n",
      "5           34.409301   0.000000     0.000000  0.00  141.55   \n",
      "\n",
      "0    DDoS-RSTFINFlood  \n",
      "1       DoS-TCP_Flood  \n",
      "2     DDoS-ICMP_Flood  \n",
      "3       DoS-UDP_Flood  \n",
      "4       DoS-SYN_Flood  \n",
      "5  Mirai-greeth_flood  \n",
      "\n",
      "[5 rows x 47 columns]\n"
     ]
    }
   ],
   "source": [
    "# iloc: integer location [row, column]\n",
    "data.columns = data.iloc[0]\n",
    "\n",
    "# store only data (not column name)\n",
    "data = data[1:]\n",
    "\n",
    "print(data.head(5))"
   ]
  },
  {
   "cell_type": "code",
   "execution_count": null,
   "metadata": {},
   "outputs": [],
   "source": [
    "# features = torch.tensor(data.columns.values)\n",
    "# target = torch.tensor(data.values)\n",
    "\n",
    "# print(len(features))\n",
    "# print(features)\n",
    "# print(len(target))\n",
    "# print(target)"
   ]
  },
  {
   "cell_type": "markdown",
   "metadata": {},
   "source": []
  }
 ],
 "metadata": {
  "kernelspec": {
   "display_name": "Python 3.11.5 64-bit",
   "language": "python",
   "name": "python3"
  },
  "language_info": {
   "codemirror_mode": {
    "name": "ipython",
    "version": 3
   },
   "file_extension": ".py",
   "mimetype": "text/x-python",
   "name": "python",
   "nbconvert_exporter": "python",
   "pygments_lexer": "ipython3",
   "version": "3.11.5"
  },
  "orig_nbformat": 4,
  "vscode": {
   "interpreter": {
    "hash": "b0fa6594d8f4cbf19f97940f81e996739fb7646882a419484c72d19e05852a7e"
   }
  }
 },
 "nbformat": 4,
 "nbformat_minor": 2
}
